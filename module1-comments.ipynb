{
 "cells": [
  {
   "cell_type": "code",
   "execution_count": 1,
   "id": "a32ba65a",
   "metadata": {},
   "outputs": [
    {
     "name": "stdout",
     "output_type": "stream",
     "text": [
      "sample\n"
     ]
    }
   ],
   "source": [
    "print('sample') # here is a mid-line comment"
   ]
  },
  {
   "cell_type": "code",
   "execution_count": 2,
   "id": "2b39f336",
   "metadata": {},
   "outputs": [],
   "source": [
    "# here is an all-line comment"
   ]
  },
  {
   "cell_type": "code",
   "execution_count": 3,
   "id": "a3021b6b",
   "metadata": {},
   "outputs": [],
   "source": [
    "# note that the variables are string, not numbers !\n",
    "var1 = '23'\n",
    "var2 = '54'"
   ]
  },
  {
   "cell_type": "code",
   "execution_count": 4,
   "id": "7e577adf",
   "metadata": {},
   "outputs": [
    {
     "name": "stdout",
     "output_type": "stream",
     "text": [
      "hello\n",
      "hidden message\n"
     ]
    }
   ],
   "source": [
    "print('hello')\n",
    "print('hidden message')"
   ]
  },
  {
   "cell_type": "code",
   "execution_count": null,
   "id": "9c6b1efa",
   "metadata": {},
   "outputs": [],
   "source": []
  }
 ],
 "metadata": {
  "kernelspec": {
   "display_name": "Python 3 (ipykernel)",
   "language": "python",
   "name": "python3"
  },
  "language_info": {
   "codemirror_mode": {
    "name": "ipython",
    "version": 3
   },
   "file_extension": ".py",
   "mimetype": "text/x-python",
   "name": "python",
   "nbconvert_exporter": "python",
   "pygments_lexer": "ipython3",
   "version": "3.9.16"
  }
 },
 "nbformat": 4,
 "nbformat_minor": 5
}
