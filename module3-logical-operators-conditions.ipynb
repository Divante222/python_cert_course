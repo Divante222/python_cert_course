{
 "cells": [
  {
   "cell_type": "code",
   "execution_count": 1,
   "id": "4c3c842b",
   "metadata": {
    "scrolled": true
   },
   "outputs": [
    {
     "name": "stdout",
     "output_type": "stream",
     "text": [
      "Do you know the secret password?--secret\n",
      "Correct password\n"
     ]
    }
   ],
   "source": [
    "password = input('Do you know the secret password?')\n",
    "if password != '--secret':\n",
    "    print('not correct')\n",
    "else:\n",
    "    print('Correct password')"
   ]
  },
  {
   "cell_type": "code",
   "execution_count": 2,
   "id": "06f543d9",
   "metadata": {},
   "outputs": [],
   "source": [
    "condition = True"
   ]
  },
  {
   "cell_type": "code",
   "execution_count": 3,
   "id": "8c42bf76",
   "metadata": {},
   "outputs": [
    {
     "ename": "NameError",
     "evalue": "name 'true' is not defined",
     "output_type": "error",
     "traceback": [
      "\u001b[0;31m---------------------------------------------------------------------------\u001b[0m",
      "\u001b[0;31mNameError\u001b[0m                                 Traceback (most recent call last)",
      "Cell \u001b[0;32mIn[3], line 1\u001b[0m\n\u001b[0;32m----> 1\u001b[0m condition \u001b[38;5;241m=\u001b[39m \u001b[43mtrue\u001b[49m\n",
      "\u001b[0;31mNameError\u001b[0m: name 'true' is not defined"
     ]
    }
   ],
   "source": [
    "condition = true"
   ]
  },
  {
   "cell_type": "code",
   "execution_count": 4,
   "id": "3473aadf",
   "metadata": {},
   "outputs": [
    {
     "name": "stdout",
     "output_type": "stream",
     "text": [
      "condition met\n"
     ]
    }
   ],
   "source": [
    "if True:\n",
    "    print('condition met')"
   ]
  },
  {
   "cell_type": "code",
   "execution_count": 5,
   "id": "42bf5e95",
   "metadata": {},
   "outputs": [],
   "source": [
    "if False:\n",
    "    print('Condition met')"
   ]
  },
  {
   "cell_type": "code",
   "execution_count": 6,
   "id": "6cadfffc",
   "metadata": {},
   "outputs": [
    {
     "name": "stdout",
     "output_type": "stream",
     "text": [
      "true\n"
     ]
    }
   ],
   "source": [
    "if 2 == 2:\n",
    "    print('true')"
   ]
  },
  {
   "cell_type": "code",
   "execution_count": 7,
   "id": "439f945d",
   "metadata": {},
   "outputs": [],
   "source": [
    "if 1 == 2:\n",
    "    print('True')"
   ]
  },
  {
   "cell_type": "code",
   "execution_count": 8,
   "id": "e70caa5a",
   "metadata": {},
   "outputs": [
    {
     "name": "stdout",
     "output_type": "stream",
     "text": [
      "true\n"
     ]
    }
   ],
   "source": [
    "if 2 == 2.0:\n",
    "    print('true')"
   ]
  },
  {
   "cell_type": "code",
   "execution_count": null,
   "id": "f6481f9f",
   "metadata": {},
   "outputs": [],
   "source": []
  }
 ],
 "metadata": {
  "kernelspec": {
   "display_name": "Python 3 (ipykernel)",
   "language": "python",
   "name": "python3"
  },
  "language_info": {
   "codemirror_mode": {
    "name": "ipython",
    "version": 3
   },
   "file_extension": ".py",
   "mimetype": "text/x-python",
   "name": "python",
   "nbconvert_exporter": "python",
   "pygments_lexer": "ipython3",
   "version": "3.9.16"
  }
 },
 "nbformat": 4,
 "nbformat_minor": 5
}
