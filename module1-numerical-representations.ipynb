{
 "cells": [
  {
   "cell_type": "code",
   "execution_count": 1,
   "id": "ea938850",
   "metadata": {},
   "outputs": [
    {
     "data": {
      "text/plain": [
       "15.1"
      ]
     },
     "execution_count": 1,
     "metadata": {},
     "output_type": "execute_result"
    }
   ],
   "source": [
    "4\n",
    "15\n",
    "4.0\n",
    "15.1"
   ]
  },
  {
   "cell_type": "code",
   "execution_count": 2,
   "id": "5879cc16",
   "metadata": {},
   "outputs": [
    {
     "data": {
      "text/plain": [
       "12000300"
      ]
     },
     "execution_count": 2,
     "metadata": {},
     "output_type": "execute_result"
    }
   ],
   "source": [
    "12000300"
   ]
  },
  {
   "cell_type": "code",
   "execution_count": 3,
   "id": "9df41bfe",
   "metadata": {},
   "outputs": [
    {
     "data": {
      "text/plain": [
       "12000300"
      ]
     },
     "execution_count": 3,
     "metadata": {},
     "output_type": "execute_result"
    }
   ],
   "source": [
    "12_000_300"
   ]
  },
  {
   "cell_type": "code",
   "execution_count": 11,
   "id": "89c91d7a",
   "metadata": {},
   "outputs": [
    {
     "name": "stdout",
     "output_type": "stream",
     "text": [
      "30000.0\n"
     ]
    }
   ],
   "source": [
    "print(3e4) #sceintific notation"
   ]
  },
  {
   "cell_type": "code",
   "execution_count": 5,
   "id": "a5a1cf18",
   "metadata": {},
   "outputs": [
    {
     "name": "stdout",
     "output_type": "stream",
     "text": [
      "3e-17\n"
     ]
    }
   ],
   "source": [
    "print(0.00000000000000003)"
   ]
  },
  {
   "cell_type": "code",
   "execution_count": 8,
   "id": "aff0c150",
   "metadata": {},
   "outputs": [
    {
     "name": "stdout",
     "output_type": "stream",
     "text": [
      "83\n"
     ]
    }
   ],
   "source": [
    "#octal nukmbers \n",
    "#start with 00 or 0o\n",
    "print(0o123) # printing an octal number"
   ]
  },
  {
   "cell_type": "code",
   "execution_count": 10,
   "id": "89472ce6",
   "metadata": {},
   "outputs": [
    {
     "name": "stdout",
     "output_type": "stream",
     "text": [
      "291\n"
     ]
    }
   ],
   "source": [
    "print(0x123) # hexadecimal number"
   ]
  },
  {
   "cell_type": "code",
   "execution_count": null,
   "id": "0901ecf9",
   "metadata": {},
   "outputs": [],
   "source": []
  }
 ],
 "metadata": {
  "kernelspec": {
   "display_name": "Python 3 (ipykernel)",
   "language": "python",
   "name": "python3"
  },
  "language_info": {
   "codemirror_mode": {
    "name": "ipython",
    "version": 3
   },
   "file_extension": ".py",
   "mimetype": "text/x-python",
   "name": "python",
   "nbconvert_exporter": "python",
   "pygments_lexer": "ipython3",
   "version": "3.9.16"
  }
 },
 "nbformat": 4,
 "nbformat_minor": 5
}
