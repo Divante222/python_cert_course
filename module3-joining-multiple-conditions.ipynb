{
 "cells": [
  {
   "cell_type": "code",
   "execution_count": 3,
   "id": "6e9735f4",
   "metadata": {},
   "outputs": [
    {
     "name": "stdout",
     "output_type": "stream",
     "text": [
      "What is your age? 26\n",
      "What is your country? Germany\n",
      "Sorry, you do not qualify\n"
     ]
    }
   ],
   "source": [
    "user_age = int(input('What is your age? '))\n",
    "user_country = input('What is your country? ')\n",
    "\n",
    "if user_age < 25 and user_country == 'Germany':\n",
    "    print('You can apply for a German student exchange programme')\n",
    "else:\n",
    "    print('Sorry, you do not qualify')"
   ]
  },
  {
   "cell_type": "code",
   "execution_count": 4,
   "id": "f5f48e34",
   "metadata": {},
   "outputs": [
    {
     "name": "stdout",
     "output_type": "stream",
     "text": [
      "What is your age? 23\n",
      "What is your country? Germany\n",
      "You can apply for a German student exchange programme\n"
     ]
    }
   ],
   "source": [
    "user_age = int(input('What is your age? '))\n",
    "user_country = input('What is your country? ')\n",
    "\n",
    "if user_age < 25 or user_country == 'Germany':\n",
    "    print('You can apply for a German student exchange programme')\n",
    "else:\n",
    "    print('Sorry, you do not qualify')"
   ]
  },
  {
   "cell_type": "code",
   "execution_count": 6,
   "id": "410000c1",
   "metadata": {},
   "outputs": [
    {
     "name": "stdout",
     "output_type": "stream",
     "text": [
      "What is your country? Sweeden\n",
      "You can apply for a Scandinavian student exchange programme\n"
     ]
    }
   ],
   "source": [
    "\n",
    "user_country = input('What is your country? ')\n",
    "\n",
    "if user_country == 'Sweeden' or user_country == 'Denmark' or user_country == 'Norway':\n",
    "    print('You can apply for a Scandinavian student exchange programme')\n",
    "else:\n",
    "    print('Sorry, you do not qualify')"
   ]
  },
  {
   "cell_type": "code",
   "execution_count": 7,
   "id": "980d76c0",
   "metadata": {},
   "outputs": [
    {
     "name": "stdout",
     "output_type": "stream",
     "text": [
      "What is your country? Germany\n",
      "you are from germany\n"
     ]
    }
   ],
   "source": [
    "\n",
    "user_country = input('What is your country? ')\n",
    "\n",
    "if not user_country == 'Germany':\n",
    "    print('You are not from germany')\n",
    "else:\n",
    "    print('you are from germany')"
   ]
  },
  {
   "cell_type": "code",
   "execution_count": 10,
   "id": "4fc73429",
   "metadata": {},
   "outputs": [
    {
     "name": "stdout",
     "output_type": "stream",
     "text": [
      "What is your age? 23\n",
      "What is your country? Thailand\n",
      "You qualify\n"
     ]
    }
   ],
   "source": [
    "user_age = int(input('What is your age? '))\n",
    "user_country = input('What is your country? ')\n",
    "\n",
    "if not user_country == 'Germany' and user_age < 25 or \\\n",
    "    user_country == 'Germany'and user_age < 23:\n",
    "    \n",
    "    print('You qualify')\n",
    "    \n",
    "else:\n",
    "    print('You don\\'t')"
   ]
  },
  {
   "cell_type": "code",
   "execution_count": null,
   "id": "90b59007",
   "metadata": {},
   "outputs": [],
   "source": [
    "user_age = int(input('What is your age? '))\n",
    "user_country = input('What is your country? ')\n",
    "\n",
    "if not user_country == 'Germany' and user_age < 25 or \\\n",
    "    user_country == 'Germany'and user_age < 23:\n",
    "    \n",
    "    print('You qualify')\n",
    "    \n",
    "else:\n",
    "    print('You don\\'t')"
   ]
  }
 ],
 "metadata": {
  "kernelspec": {
   "display_name": "Python 3 (ipykernel)",
   "language": "python",
   "name": "python3"
  },
  "language_info": {
   "codemirror_mode": {
    "name": "ipython",
    "version": 3
   },
   "file_extension": ".py",
   "mimetype": "text/x-python",
   "name": "python",
   "nbconvert_exporter": "python",
   "pygments_lexer": "ipython3",
   "version": "3.9.16"
  }
 },
 "nbformat": 4,
 "nbformat_minor": 5
}
