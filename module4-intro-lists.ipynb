{
 "cells": [
  {
   "cell_type": "code",
   "execution_count": 4,
   "id": "f7036240",
   "metadata": {},
   "outputs": [],
   "source": [
    "number = 2\n",
    "number = 5"
   ]
  },
  {
   "cell_type": "code",
   "execution_count": 5,
   "id": "508979ea",
   "metadata": {},
   "outputs": [
    {
     "data": {
      "text/plain": [
       "5"
      ]
     },
     "execution_count": 5,
     "metadata": {},
     "output_type": "execute_result"
    }
   ],
   "source": [
    "number"
   ]
  },
  {
   "cell_type": "code",
   "execution_count": 6,
   "id": "27f85d33",
   "metadata": {},
   "outputs": [],
   "source": [
    "#collections\n"
   ]
  },
  {
   "cell_type": "code",
   "execution_count": 7,
   "id": "7cbdd931",
   "metadata": {},
   "outputs": [],
   "source": [
    "city_1 = 'New York City'\n",
    "city_2 = 'Los Angeles'\n",
    "city_3 = 'Chicago'\n",
    "city_4 = 'Huston'\n",
    "city_5 = 'Pheonix'\n"
   ]
  },
  {
   "cell_type": "code",
   "execution_count": 8,
   "id": "77a9a68f",
   "metadata": {},
   "outputs": [],
   "source": [
    "empty_list = []"
   ]
  },
  {
   "cell_type": "code",
   "execution_count": 10,
   "id": "86dc32f3",
   "metadata": {},
   "outputs": [],
   "source": [
    "top_cities = ['New York City',\n",
    "'Los Angeles',\n",
    "'Chicago',\n",
    "'Huston',\n",
    "'Pheonix']"
   ]
  },
  {
   "cell_type": "code",
   "execution_count": 11,
   "id": "d7e5cfc8",
   "metadata": {},
   "outputs": [
    {
     "name": "stdout",
     "output_type": "stream",
     "text": [
      "['New York City', 'Los Angeles', 'Chicago', 'Huston', 'Pheonix']\n"
     ]
    }
   ],
   "source": [
    "print(top_cities)"
   ]
  },
  {
   "cell_type": "code",
   "execution_count": 12,
   "id": "ffa86c1c",
   "metadata": {},
   "outputs": [
    {
     "data": {
      "text/plain": [
       "'New York City'"
      ]
     },
     "execution_count": 12,
     "metadata": {},
     "output_type": "execute_result"
    }
   ],
   "source": [
    "top_cities[0]"
   ]
  },
  {
   "cell_type": "code",
   "execution_count": 13,
   "id": "6cbcb327",
   "metadata": {},
   "outputs": [
    {
     "data": {
      "text/plain": [
       "'Los Angeles'"
      ]
     },
     "execution_count": 13,
     "metadata": {},
     "output_type": "execute_result"
    }
   ],
   "source": [
    "top_cities[1]"
   ]
  },
  {
   "cell_type": "code",
   "execution_count": 14,
   "id": "82d9aed8",
   "metadata": {},
   "outputs": [
    {
     "data": {
      "text/plain": [
       "'Pheonix'"
      ]
     },
     "execution_count": 14,
     "metadata": {},
     "output_type": "execute_result"
    }
   ],
   "source": [
    "top_cities[4]"
   ]
  },
  {
   "cell_type": "code",
   "execution_count": 15,
   "id": "718c1bde",
   "metadata": {},
   "outputs": [
    {
     "ename": "IndexError",
     "evalue": "list index out of range",
     "output_type": "error",
     "traceback": [
      "\u001b[0;31m---------------------------------------------------------------------------\u001b[0m",
      "\u001b[0;31mIndexError\u001b[0m                                Traceback (most recent call last)",
      "Cell \u001b[0;32mIn[15], line 1\u001b[0m\n\u001b[0;32m----> 1\u001b[0m \u001b[43mtop_cities\u001b[49m\u001b[43m[\u001b[49m\u001b[38;5;241;43m5\u001b[39;49m\u001b[43m]\u001b[49m\n",
      "\u001b[0;31mIndexError\u001b[0m: list index out of range"
     ]
    }
   ],
   "source": [
    "top_cities[5]"
   ]
  },
  {
   "cell_type": "code",
   "execution_count": 16,
   "id": "7d334f86",
   "metadata": {},
   "outputs": [
    {
     "data": {
      "text/plain": [
       "'Pheonix'"
      ]
     },
     "execution_count": 16,
     "metadata": {},
     "output_type": "execute_result"
    }
   ],
   "source": [
    "top_cities[-1]"
   ]
  },
  {
   "cell_type": "code",
   "execution_count": 17,
   "id": "f9f716fe",
   "metadata": {},
   "outputs": [
    {
     "data": {
      "text/plain": [
       "'Huston'"
      ]
     },
     "execution_count": 17,
     "metadata": {},
     "output_type": "execute_result"
    }
   ],
   "source": [
    "top_cities[-2]"
   ]
  },
  {
   "cell_type": "code",
   "execution_count": 18,
   "id": "37da85f0",
   "metadata": {},
   "outputs": [
    {
     "data": {
      "text/plain": [
       "'New York City'"
      ]
     },
     "execution_count": 18,
     "metadata": {},
     "output_type": "execute_result"
    }
   ],
   "source": [
    "top_cities[-5]"
   ]
  },
  {
   "cell_type": "code",
   "execution_count": 19,
   "id": "ffcb91e9",
   "metadata": {},
   "outputs": [
    {
     "ename": "IndexError",
     "evalue": "list index out of range",
     "output_type": "error",
     "traceback": [
      "\u001b[0;31m---------------------------------------------------------------------------\u001b[0m",
      "\u001b[0;31mIndexError\u001b[0m                                Traceback (most recent call last)",
      "Cell \u001b[0;32mIn[19], line 1\u001b[0m\n\u001b[0;32m----> 1\u001b[0m \u001b[43mtop_cities\u001b[49m\u001b[43m[\u001b[49m\u001b[38;5;241;43m-\u001b[39;49m\u001b[38;5;241;43m6\u001b[39;49m\u001b[43m]\u001b[49m\n",
      "\u001b[0;31mIndexError\u001b[0m: list index out of range"
     ]
    }
   ],
   "source": [
    "top_cities[-6]"
   ]
  },
  {
   "cell_type": "code",
   "execution_count": 20,
   "id": "3665444e",
   "metadata": {},
   "outputs": [
    {
     "data": {
      "text/plain": [
       "['New York City', 'Los Angeles']"
      ]
     },
     "execution_count": 20,
     "metadata": {},
     "output_type": "execute_result"
    }
   ],
   "source": [
    "top_cities[0:2]"
   ]
  },
  {
   "cell_type": "code",
   "execution_count": 21,
   "id": "35c29066",
   "metadata": {},
   "outputs": [
    {
     "data": {
      "text/plain": [
       "['Chicago', 'Huston', 'Pheonix']"
      ]
     },
     "execution_count": 21,
     "metadata": {},
     "output_type": "execute_result"
    }
   ],
   "source": [
    "top_cities[2:]"
   ]
  },
  {
   "cell_type": "code",
   "execution_count": 22,
   "id": "844f234e",
   "metadata": {},
   "outputs": [
    {
     "data": {
      "text/plain": [
       "['New York City', 'Los Angeles', 'Chicago']"
      ]
     },
     "execution_count": 22,
     "metadata": {},
     "output_type": "execute_result"
    }
   ],
   "source": [
    "top_cities[:3]"
   ]
  },
  {
   "cell_type": "code",
   "execution_count": 23,
   "id": "8187dfb5",
   "metadata": {},
   "outputs": [
    {
     "data": {
      "text/plain": [
       "['New York City', 'Los Angeles', 'Chicago', 'Huston', 'Pheonix']"
      ]
     },
     "execution_count": 23,
     "metadata": {},
     "output_type": "execute_result"
    }
   ],
   "source": [
    "top_cities[:\n",
    "          ]"
   ]
  },
  {
   "cell_type": "code",
   "execution_count": 24,
   "id": "c45f1596",
   "metadata": {},
   "outputs": [
    {
     "data": {
      "text/plain": [
       "[]"
      ]
     },
     "execution_count": 24,
     "metadata": {},
     "output_type": "execute_result"
    }
   ],
   "source": [
    "top_cities[10:15]"
   ]
  },
  {
   "cell_type": "code",
   "execution_count": 25,
   "id": "151b0ab9",
   "metadata": {},
   "outputs": [],
   "source": [
    "top_city = 'New york CIty'"
   ]
  },
  {
   "cell_type": "code",
   "execution_count": null,
   "id": "2c5c25e2",
   "metadata": {},
   "outputs": [],
   "source": []
  }
 ],
 "metadata": {
  "kernelspec": {
   "display_name": "Python 3 (ipykernel)",
   "language": "python",
   "name": "python3"
  },
  "language_info": {
   "codemirror_mode": {
    "name": "ipython",
    "version": 3
   },
   "file_extension": ".py",
   "mimetype": "text/x-python",
   "name": "python",
   "nbconvert_exporter": "python",
   "pygments_lexer": "ipython3",
   "version": "3.9.16"
  }
 },
 "nbformat": 4,
 "nbformat_minor": 5
}
