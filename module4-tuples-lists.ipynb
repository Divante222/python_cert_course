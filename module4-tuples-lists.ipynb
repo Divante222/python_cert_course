{
 "cells": [
  {
   "cell_type": "code",
   "execution_count": 1,
   "id": "58a59de7",
   "metadata": {},
   "outputs": [],
   "source": [
    "city_1 = ('London', 'UK', 8.98)"
   ]
  },
  {
   "cell_type": "code",
   "execution_count": 2,
   "id": "3888029f",
   "metadata": {},
   "outputs": [],
   "source": [
    "city_2 = ('Canberra', 'Australia', 0.4)"
   ]
  },
  {
   "cell_type": "code",
   "execution_count": 3,
   "id": "1445e1a3",
   "metadata": {},
   "outputs": [],
   "source": [
    "city_3 = ('Algiers', 'Algeria', 3.9)"
   ]
  },
  {
   "cell_type": "code",
   "execution_count": 5,
   "id": "91414c63",
   "metadata": {},
   "outputs": [],
   "source": [
    "capitals = [('London', 'UK', 8.98), ('Canberra', 'Australia', 0.4),('Algiers', 'Algeria', 3.9)]"
   ]
  },
  {
   "cell_type": "code",
   "execution_count": 6,
   "id": "94e48c9d",
   "metadata": {},
   "outputs": [
    {
     "name": "stdout",
     "output_type": "stream",
     "text": [
      "Name:  London Country:  UK Population:  8.98\n",
      "Name:  Canberra Country:  Australia Population:  0.4\n",
      "Name:  Algiers Country:  Algeria Population:  3.9\n"
     ]
    }
   ],
   "source": [
    "for capital in capitals:\n",
    "    print('Name: ', capital[0], 'Country: ', capital[1], 'Population: ', capital[2])"
   ]
  },
  {
   "cell_type": "code",
   "execution_count": 7,
   "id": "c4e226f2",
   "metadata": {},
   "outputs": [],
   "source": [
    "user_data = ('John', 'American', 1964, [77.0, 78.2, 77.5])"
   ]
  },
  {
   "cell_type": "code",
   "execution_count": 9,
   "id": "8c511324",
   "metadata": {},
   "outputs": [],
   "source": [
    "user_data[3].append(79.6)"
   ]
  },
  {
   "cell_type": "code",
   "execution_count": 11,
   "id": "2cd814d6",
   "metadata": {},
   "outputs": [
    {
     "data": {
      "text/plain": [
       "('John', 'American', 1964, [77.0, 78.2, 77.5, 79.6])"
      ]
     },
     "execution_count": 11,
     "metadata": {},
     "output_type": "execute_result"
    }
   ],
   "source": [
    "user_data"
   ]
  },
  {
   "cell_type": "code",
   "execution_count": null,
   "id": "17479edf",
   "metadata": {},
   "outputs": [],
   "source": []
  }
 ],
 "metadata": {
  "kernelspec": {
   "display_name": "Python 3 (ipykernel)",
   "language": "python",
   "name": "python3"
  },
  "language_info": {
   "codemirror_mode": {
    "name": "ipython",
    "version": 3
   },
   "file_extension": ".py",
   "mimetype": "text/x-python",
   "name": "python",
   "nbconvert_exporter": "python",
   "pygments_lexer": "ipython3",
   "version": "3.9.16"
  }
 },
 "nbformat": 4,
 "nbformat_minor": 5
}
