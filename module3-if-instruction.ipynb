{
 "cells": [
  {
   "cell_type": "code",
   "execution_count": 1,
   "id": "c2092166",
   "metadata": {},
   "outputs": [
    {
     "name": "stdout",
     "output_type": "stream",
     "text": [
      "What is your age? 31\n",
      "You are over 30 years old\n"
     ]
    }
   ],
   "source": [
    "user_age = int(input('What is your age? '))\n",
    "if user_age > 30:\n",
    "    print('You are over 30 years old')"
   ]
  },
  {
   "cell_type": "code",
   "execution_count": 4,
   "id": "908f3ecb",
   "metadata": {},
   "outputs": [
    {
     "name": "stdout",
     "output_type": "stream",
     "text": [
      "What is your age? 25\n",
      "Sorry, you do not qualify\n"
     ]
    }
   ],
   "source": [
    "user_age = int(input('What is your age? '))\n",
    "if user_age > 30:\n",
    "    print('You are over 30 years old')\n",
    "    print('Sorry, you do not qualify')"
   ]
  },
  {
   "cell_type": "code",
   "execution_count": 6,
   "id": "fe19418d",
   "metadata": {},
   "outputs": [
    {
     "name": "stdout",
     "output_type": "stream",
     "text": [
      "What is your age? 30\n",
      "You are exactly 30 years old\n",
      "You will need to meet additional conditions to qualify\n"
     ]
    }
   ],
   "source": [
    "user_age = int(input('What is your age? '))\n",
    "if user_age > 30:\n",
    "    print('You are over 30 years old')\n",
    "    print('Sorry, you do not qualify')\n",
    "    \n",
    "elif user_age == 30:\n",
    "    print('You are exactly 30 years old')\n",
    "    print('You will need to meet additional conditions to qualify')\n",
    "else:\n",
    "    print('You are 30 years old or younger')\n",
    "    print('Congratulations, you qualify!')"
   ]
  },
  {
   "cell_type": "code",
   "execution_count": 7,
   "id": "1f3ca614",
   "metadata": {},
   "outputs": [
    {
     "name": "stdout",
     "output_type": "stream",
     "text": [
      "What is your age? 25\n",
      "You are 30 years old or younger\n",
      "Congratulations, you qualify!\n"
     ]
    }
   ],
   "source": [
    "user_age = int(input('What is your age? '))\n",
    "if user_age > 30:\n",
    "    print('You are over 30 years old')\n",
    "    print('Sorry, you do not qualify')\n",
    "else:\n",
    "    print('You are 30 years old or younger')\n",
    "    print('Congratulations, you qualify!')"
   ]
  },
  {
   "cell_type": "code",
   "execution_count": null,
   "id": "68001ef4",
   "metadata": {},
   "outputs": [],
   "source": []
  }
 ],
 "metadata": {
  "kernelspec": {
   "display_name": "Python 3 (ipykernel)",
   "language": "python",
   "name": "python3"
  },
  "language_info": {
   "codemirror_mode": {
    "name": "ipython",
    "version": 3
   },
   "file_extension": ".py",
   "mimetype": "text/x-python",
   "name": "python",
   "nbconvert_exporter": "python",
   "pygments_lexer": "ipython3",
   "version": "3.9.16"
  }
 },
 "nbformat": 4,
 "nbformat_minor": 5
}
