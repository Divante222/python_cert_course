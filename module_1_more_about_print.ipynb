{
 "cells": [
  {
   "cell_type": "code",
   "execution_count": 2,
   "id": "bc06b4b8",
   "metadata": {},
   "outputs": [
    {
     "name": "stdout",
     "output_type": "stream",
     "text": [
      "Hello!\n"
     ]
    }
   ],
   "source": [
    "print('Hello!')"
   ]
  },
  {
   "cell_type": "code",
   "execution_count": 3,
   "id": "cc46ee55",
   "metadata": {},
   "outputs": [
    {
     "name": "stdout",
     "output_type": "stream",
     "text": [
      "I'm studying Python\n"
     ]
    }
   ],
   "source": [
    "print(\"I'm studying Python\")"
   ]
  },
  {
   "cell_type": "code",
   "execution_count": 4,
   "id": "6df8446c",
   "metadata": {},
   "outputs": [
    {
     "name": "stdout",
     "output_type": "stream",
     "text": [
      "'I'm studying Python'\n"
     ]
    }
   ],
   "source": [
    "print(\"'I'm studying Python'\")"
   ]
  },
  {
   "cell_type": "code",
   "execution_count": 5,
   "id": "a85b82f5",
   "metadata": {},
   "outputs": [
    {
     "ename": "SyntaxError",
     "evalue": "invalid syntax (2424540414.py, line 1)",
     "output_type": "error",
     "traceback": [
      "\u001b[0;36m  Cell \u001b[0;32mIn[5], line 1\u001b[0;36m\u001b[0m\n\u001b[0;31m    print(\"I'm studying Python\") print(\"I'm studying Python\")\u001b[0m\n\u001b[0m                                 ^\u001b[0m\n\u001b[0;31mSyntaxError\u001b[0m\u001b[0;31m:\u001b[0m invalid syntax\n"
     ]
    }
   ],
   "source": [
    "print(\"I'm studying Python\") print(\"I'm studying Python\")"
   ]
  },
  {
   "cell_type": "code",
   "execution_count": 8,
   "id": "367ba750",
   "metadata": {},
   "outputs": [
    {
     "name": "stdout",
     "output_type": "stream",
     "text": [
      "I'm studying Python\n",
      "and having fun\n"
     ]
    }
   ],
   "source": [
    "print(\"I'm studying Python\") \n",
    "print(\"and having fun\")"
   ]
  },
  {
   "cell_type": "code",
   "execution_count": 9,
   "id": "80c79a8a",
   "metadata": {},
   "outputs": [
    {
     "name": "stdout",
     "output_type": "stream",
     "text": [
      "I'm studying Python\n",
      "\n",
      "and having fun\n"
     ]
    }
   ],
   "source": [
    "print(\"I'm studying Python\") \n",
    "\n",
    "print()\n",
    "print(\"and having fun\")"
   ]
  },
  {
   "cell_type": "code",
   "execution_count": 11,
   "id": "a63c47a9",
   "metadata": {},
   "outputs": [
    {
     "name": "stdout",
     "output_type": "stream",
     "text": [
      "I'm studying Python and having fun\n"
     ]
    }
   ],
   "source": [
    "print(\"I'm studying Python\", \"and having fun\") "
   ]
  },
  {
   "cell_type": "code",
   "execution_count": 12,
   "id": "1017e58b",
   "metadata": {},
   "outputs": [
    {
     "name": "stdout",
     "output_type": "stream",
     "text": [
      "I'm studying Python\n",
      "and having fun\n"
     ]
    }
   ],
   "source": [
    "print(\"I'm studying Python\\nand having fun\")"
   ]
  },
  {
   "cell_type": "code",
   "execution_count": null,
   "id": "cf80e1d8",
   "metadata": {},
   "outputs": [],
   "source": []
  }
 ],
 "metadata": {
  "kernelspec": {
   "display_name": "Python 3 (ipykernel)",
   "language": "python",
   "name": "python3"
  },
  "language_info": {
   "codemirror_mode": {
    "name": "ipython",
    "version": 3
   },
   "file_extension": ".py",
   "mimetype": "text/x-python",
   "name": "python",
   "nbconvert_exporter": "python",
   "pygments_lexer": "ipython3",
   "version": "3.9.16"
  }
 },
 "nbformat": 4,
 "nbformat_minor": 5
}
