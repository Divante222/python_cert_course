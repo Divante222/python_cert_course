{
 "cells": [
  {
   "cell_type": "code",
   "execution_count": 1,
   "id": "13862300",
   "metadata": {},
   "outputs": [
    {
     "name": "stdout",
     "output_type": "stream",
     "text": [
      "current city: New York City\n",
      "current city: Los Angeles\n",
      "current city: Chicago\n",
      "current city: Huston\n",
      "current city: Pheonix\n"
     ]
    }
   ],
   "source": [
    "top_cities = ['New York City',\n",
    "'Los Angeles',\n",
    "'Chicago',\n",
    "'Huston',\n",
    "'Pheonix']\n",
    "\n",
    "for city in top_cities:\n",
    "    print('current city:', city)"
   ]
  },
  {
   "cell_type": "code",
   "execution_count": 2,
   "id": "9988d8dc",
   "metadata": {},
   "outputs": [
    {
     "name": "stdout",
     "output_type": "stream",
     "text": [
      "Current index: 0 | Current city: New York City\n",
      "Current index: 1 | Current city: Los Angeles\n",
      "Current index: 2 | Current city: Chicago\n",
      "Current index: 3 | Current city: Huston\n",
      "Current index: 4 | Current city: Pheonix\n"
     ]
    }
   ],
   "source": [
    "top_cities = ['New York City',\n",
    "'Los Angeles',\n",
    "'Chicago',\n",
    "'Huston',\n",
    "'Pheonix']\n",
    "\n",
    "for city_index in range(len(top_cities)):\n",
    "    print('Current index:', city_index, '| Current city:', top_cities[city_index])"
   ]
  },
  {
   "cell_type": "code",
   "execution_count": 4,
   "id": "f2fd9dbc",
   "metadata": {},
   "outputs": [
    {
     "name": "stdout",
     "output_type": "stream",
     "text": [
      "Money spend: 158.1\n"
     ]
    }
   ],
   "source": [
    "spendings =[32.45,18.65,23.45,78.32,5.23]\n",
    "\n",
    "_sum = 0.0\n",
    "for spendings in spendings:\n",
    "    _sum += spendings\n",
    "print('Money spend:', _sum)\n"
   ]
  },
  {
   "cell_type": "code",
   "execution_count": null,
   "id": "6e7aefab",
   "metadata": {},
   "outputs": [],
   "source": []
  }
 ],
 "metadata": {
  "kernelspec": {
   "display_name": "Python 3 (ipykernel)",
   "language": "python",
   "name": "python3"
  },
  "language_info": {
   "codemirror_mode": {
    "name": "ipython",
    "version": 3
   },
   "file_extension": ".py",
   "mimetype": "text/x-python",
   "name": "python",
   "nbconvert_exporter": "python",
   "pygments_lexer": "ipython3",
   "version": "3.9.16"
  }
 },
 "nbformat": 4,
 "nbformat_minor": 5
}
