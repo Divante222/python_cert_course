{
 "cells": [
  {
   "cell_type": "code",
   "execution_count": 1,
   "id": "b4f3a672",
   "metadata": {},
   "outputs": [],
   "source": [
    "greeting = 'Hello, friend!'"
   ]
  },
  {
   "cell_type": "code",
   "execution_count": null,
   "id": "8842cb25",
   "metadata": {},
   "outputs": [],
   "source": [
    "age = 35"
   ]
  },
  {
   "cell_type": "code",
   "execution_count": null,
   "id": "62e49628",
   "metadata": {},
   "outputs": [],
   "source": [
    "speed1 = 4.5\n",
    "speed2 = 4.0\n",
    "speed3 = 4.\n",
    "speed4 = 4"
   ]
  },
  {
   "cell_type": "code",
   "execution_count": 4,
   "id": "f592fa62",
   "metadata": {},
   "outputs": [],
   "source": [
    "am_i_ugly = True"
   ]
  },
  {
   "cell_type": "code",
   "execution_count": null,
   "id": "7a80c8b9",
   "metadata": {},
   "outputs": [],
   "source": []
  }
 ],
 "metadata": {
  "kernelspec": {
   "display_name": "Python 3 (ipykernel)",
   "language": "python",
   "name": "python3"
  },
  "language_info": {
   "codemirror_mode": {
    "name": "ipython",
    "version": 3
   },
   "file_extension": ".py",
   "mimetype": "text/x-python",
   "name": "python",
   "nbconvert_exporter": "python",
   "pygments_lexer": "ipython3",
   "version": "3.9.16"
  }
 },
 "nbformat": 4,
 "nbformat_minor": 5
}
