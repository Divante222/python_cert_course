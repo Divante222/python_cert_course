{
 "cells": [
  {
   "cell_type": "code",
   "execution_count": 1,
   "id": "bd7170a7",
   "metadata": {},
   "outputs": [],
   "source": [
    "numbers = [1,2,3,4]\n"
   ]
  },
  {
   "cell_type": "code",
   "execution_count": 2,
   "id": "12614b8c",
   "metadata": {},
   "outputs": [],
   "source": [
    "countries = ['UK','US','Germany']"
   ]
  },
  {
   "cell_type": "code",
   "execution_count": 3,
   "id": "206823ae",
   "metadata": {},
   "outputs": [],
   "source": [
    "contries = [1, 'UK', 2, 'Germany']"
   ]
  },
  {
   "cell_type": "code",
   "execution_count": 4,
   "id": "de2f6eb5",
   "metadata": {},
   "outputs": [],
   "source": [
    "cells = [['A1', 'A2', 'A3'], ['B1', 'B2','B3']]"
   ]
  },
  {
   "cell_type": "code",
   "execution_count": 7,
   "id": "1d0722cc",
   "metadata": {},
   "outputs": [
    {
     "data": {
      "text/plain": [
       "['A1', 'A2', 'A3']"
      ]
     },
     "execution_count": 7,
     "metadata": {},
     "output_type": "execute_result"
    }
   ],
   "source": [
    "cells[0]"
   ]
  },
  {
   "cell_type": "code",
   "execution_count": 8,
   "id": "a3740a1b",
   "metadata": {},
   "outputs": [
    {
     "data": {
      "text/plain": [
       "'A1'"
      ]
     },
     "execution_count": 8,
     "metadata": {},
     "output_type": "execute_result"
    }
   ],
   "source": [
    "cells[0][0]"
   ]
  },
  {
   "cell_type": "code",
   "execution_count": 9,
   "id": "cb88c53e",
   "metadata": {},
   "outputs": [
    {
     "data": {
      "text/plain": [
       "'A2'"
      ]
     },
     "execution_count": 9,
     "metadata": {},
     "output_type": "execute_result"
    }
   ],
   "source": [
    "cells[0][1]"
   ]
  },
  {
   "cell_type": "code",
   "execution_count": 10,
   "id": "fa2c657d",
   "metadata": {},
   "outputs": [
    {
     "data": {
      "text/plain": [
       "'B3'"
      ]
     },
     "execution_count": 10,
     "metadata": {},
     "output_type": "execute_result"
    }
   ],
   "source": [
    "cells[1][2]"
   ]
  },
  {
   "cell_type": "code",
   "execution_count": 11,
   "id": "33e8a147",
   "metadata": {},
   "outputs": [
    {
     "name": "stdout",
     "output_type": "stream",
     "text": [
      "Element ['A1', 'A2', 'A3']\n",
      "Element ['B1', 'B2', 'B3']\n"
     ]
    }
   ],
   "source": [
    "for x in cells:\n",
    "    print('Element', x)"
   ]
  },
  {
   "cell_type": "code",
   "execution_count": 12,
   "id": "bc1b2bcc",
   "metadata": {},
   "outputs": [
    {
     "name": "stdout",
     "output_type": "stream",
     "text": [
      "Element A1\n",
      "Element A2\n",
      "Element A3\n",
      "Element B1\n",
      "Element B2\n",
      "Element B3\n"
     ]
    }
   ],
   "source": [
    "cells = [['A1', 'A2', 'A3'], ['B1', 'B2','B3']]\n",
    "for x in cells:\n",
    "    for y in x:\n",
    "        print('Element', y)"
   ]
  },
  {
   "cell_type": "code",
   "execution_count": 17,
   "id": "c4c09c59",
   "metadata": {},
   "outputs": [
    {
     "name": "stdout",
     "output_type": "stream",
     "text": [
      "A1  A2  A3  \n",
      "B1  B2  B3  \n"
     ]
    }
   ],
   "source": [
    "table = [['A1', 'A2', 'A3'], ['B1', 'B2','B3']]\n",
    "for row in table:\n",
    "    for cell in row:\n",
    "        print(cell, '', end = ' ')\n",
    "    print()"
   ]
  },
  {
   "cell_type": "code",
   "execution_count": 19,
   "id": "69af2cb7",
   "metadata": {},
   "outputs": [],
   "source": [
    "table = [[i for i in range(1,5)] for j in range(4)]"
   ]
  },
  {
   "cell_type": "code",
   "execution_count": 20,
   "id": "c38b4298",
   "metadata": {},
   "outputs": [
    {
     "data": {
      "text/plain": [
       "[[1, 2, 3, 4], [1, 2, 3, 4], [1, 2, 3, 4], [1, 2, 3, 4]]"
      ]
     },
     "execution_count": 20,
     "metadata": {},
     "output_type": "execute_result"
    }
   ],
   "source": [
    "table"
   ]
  },
  {
   "cell_type": "code",
   "execution_count": null,
   "id": "a9cf718c",
   "metadata": {},
   "outputs": [],
   "source": []
  }
 ],
 "metadata": {
  "kernelspec": {
   "display_name": "Python 3 (ipykernel)",
   "language": "python",
   "name": "python3"
  },
  "language_info": {
   "codemirror_mode": {
    "name": "ipython",
    "version": 3
   },
   "file_extension": ".py",
   "mimetype": "text/x-python",
   "name": "python",
   "nbconvert_exporter": "python",
   "pygments_lexer": "ipython3",
   "version": "3.9.16"
  }
 },
 "nbformat": 4,
 "nbformat_minor": 5
}
