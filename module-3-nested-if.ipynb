{
 "cells": [
  {
   "cell_type": "code",
   "execution_count": 1,
   "id": "d51f3d2d",
   "metadata": {},
   "outputs": [
    {
     "name": "stdout",
     "output_type": "stream",
     "text": [
      "Do you like travelling y/n: y\n",
      "good\n"
     ]
    }
   ],
   "source": [
    "answer_a = input('Do you like travelling y/n: ')\n",
    "\n",
    "if answer_a == 'y':\n",
    "    print('good')\n",
    "else:\n",
    "    print('Sorry to hear about that!')"
   ]
  },
  {
   "cell_type": "code",
   "execution_count": 2,
   "id": "e822f6ec",
   "metadata": {},
   "outputs": [
    {
     "name": "stdout",
     "output_type": "stream",
     "text": [
      "Do you like travelling y/n: y\n",
      "And do you like Asia? y/ny\n",
      "Excellent! You can win a ticket to Thailand!\n"
     ]
    }
   ],
   "source": [
    "answer_a = input('Do you like travelling y/n: ')\n",
    "\n",
    "if answer_a == 'y':\n",
    "    answer_b = input('And do you like Asia? y/n')\n",
    "    if answer_b =='y':\n",
    "        print('Excellent! You can win a ticket to Thailand!')\n",
    "    else:\n",
    "        print('Sorry to hear about that!')\n",
    "else:\n",
    "    print('Sorry to hear about that!')"
   ]
  },
  {
   "cell_type": "code",
   "execution_count": 4,
   "id": "868fbc3c",
   "metadata": {},
   "outputs": [
    {
     "name": "stdout",
     "output_type": "stream",
     "text": [
      "Do you like travelling y/n: y\n",
      "And do you like Asia? y/nn\n",
      "Sorry to hear about that!\n"
     ]
    }
   ],
   "source": [
    "answer_a = input('Do you like travelling y/n: ')\n",
    "\n",
    "if answer_a == 'y':\n",
    "    answer_b = input('And do you like Asia? y/n')\n",
    "    if answer_b =='y':\n",
    "        print('Excellent! You can win a ticket to Thailand!')\n",
    "    print('Sorry to hear about that!')\n",
    "else:\n",
    "    print('Sorry to hear about that!')"
   ]
  },
  {
   "cell_type": "code",
   "execution_count": null,
   "id": "333a6116",
   "metadata": {},
   "outputs": [],
   "source": []
  }
 ],
 "metadata": {
  "kernelspec": {
   "display_name": "Python 3 (ipykernel)",
   "language": "python",
   "name": "python3"
  },
  "language_info": {
   "codemirror_mode": {
    "name": "ipython",
    "version": 3
   },
   "file_extension": ".py",
   "mimetype": "text/x-python",
   "name": "python",
   "nbconvert_exporter": "python",
   "pygments_lexer": "ipython3",
   "version": "3.9.16"
  }
 },
 "nbformat": 4,
 "nbformat_minor": 5
}
