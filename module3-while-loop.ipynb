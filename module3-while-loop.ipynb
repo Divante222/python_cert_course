{
 "cells": [
  {
   "cell_type": "code",
   "execution_count": null,
   "id": "1838d528",
   "metadata": {},
   "outputs": [],
   "source": [
    "while condition:\n",
    "    do_something()\n",
    "    do_something2()"
   ]
  },
  {
   "cell_type": "code",
   "execution_count": 1,
   "id": "a7a02206",
   "metadata": {},
   "outputs": [
    {
     "name": "stdout",
     "output_type": "stream",
     "text": [
      "1\n",
      "2\n",
      "3\n",
      "4\n",
      "5\n",
      "6\n",
      "7\n",
      "8\n",
      "9\n",
      "10\n",
      "Finished\n"
     ]
    }
   ],
   "source": [
    "counter = 1\n",
    "while counter < 11:\n",
    "    print(counter)\n",
    "    counter +=1\n",
    "print('Finished')"
   ]
  },
  {
   "cell_type": "code",
   "execution_count": 2,
   "id": "9855980a",
   "metadata": {},
   "outputs": [
    {
     "name": "stdout",
     "output_type": "stream",
     "text": [
      "Finished\n"
     ]
    }
   ],
   "source": [
    "counter = 1\n",
    "while counter > 11:\n",
    "    print(counter)\n",
    "    counter +=1\n",
    "print('Finished')"
   ]
  },
  {
   "cell_type": "code",
   "execution_count": 5,
   "id": "ee1b5c5c",
   "metadata": {},
   "outputs": [
    {
     "name": "stdout",
     "output_type": "stream",
     "text": [
      "\n",
      "==================================\n",
      "======= SECRET NUMBER GAME =======\n",
      "==================================\n",
      "\n",
      "Try to guess the secret number form 0 to 20: 14\n",
      "Perfect! you have guessed the secret number.\n"
     ]
    }
   ],
   "source": [
    "secret_number = 14\n",
    "print('''\n",
    "==================================\n",
    "======= SECRET NUMBER GAME =======\n",
    "==================================\n",
    "''')\n",
    "\n",
    "\n",
    "user_input = int(input('Try to guess the secret number form 0 to 20: '))\n",
    "while user_input != secret_number:\n",
    "    print('Wrong!')\n",
    "    user_input = int(input('Try to guess the secret number form 0 to 20: '))\n",
    "\n",
    "print('Perfect! you have guessed the secret number.')"
   ]
  },
  {
   "cell_type": "code",
   "execution_count": null,
   "id": "fac3981a",
   "metadata": {},
   "outputs": [],
   "source": []
  }
 ],
 "metadata": {
  "kernelspec": {
   "display_name": "Python 3 (ipykernel)",
   "language": "python",
   "name": "python3"
  },
  "language_info": {
   "codemirror_mode": {
    "name": "ipython",
    "version": 3
   },
   "file_extension": ".py",
   "mimetype": "text/x-python",
   "name": "python",
   "nbconvert_exporter": "python",
   "pygments_lexer": "ipython3",
   "version": "3.9.16"
  }
 },
 "nbformat": 4,
 "nbformat_minor": 5
}
