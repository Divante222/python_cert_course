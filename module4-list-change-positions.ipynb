{
 "cells": [
  {
   "cell_type": "code",
   "execution_count": 2,
   "id": "7066ba75",
   "metadata": {},
   "outputs": [
    {
     "name": "stdout",
     "output_type": "stream",
     "text": [
      "Enter first number: 10\n",
      "Enter second number: 20\n",
      "Before swapping: 10 20\n",
      "After swapping: 20 20\n"
     ]
    }
   ],
   "source": [
    "first= input('Enter first number: ')\n",
    "second = input('Enter second number: ')\n",
    "\n",
    "print('Before swapping:', first, second)\n",
    "first= second\n",
    "second = first\n",
    "\n",
    "print('After swapping:', first, second)"
   ]
  },
  {
   "cell_type": "code",
   "execution_count": 3,
   "id": "690dc31b",
   "metadata": {},
   "outputs": [
    {
     "name": "stdout",
     "output_type": "stream",
     "text": [
      "Enter first number: 10\n",
      "Enter second number: 20\n",
      "Before swapping: 10 20\n",
      "After swapping: 20 10\n"
     ]
    }
   ],
   "source": [
    "first= input('Enter first number: ')\n",
    "second = input('Enter second number: ')\n",
    "\n",
    "print('Before swapping:', first, second)\n",
    "temporary= first\n",
    "first = second \n",
    "second = temporary\n",
    "\n",
    "print('After swapping:', first, second)"
   ]
  },
  {
   "cell_type": "code",
   "execution_count": 4,
   "id": "c5081479",
   "metadata": {},
   "outputs": [
    {
     "name": "stdout",
     "output_type": "stream",
     "text": [
      "Enter first number: 10\n",
      "Enter second number: 20\n",
      "Before swapping: 10 20\n",
      "After swapping: 20 10\n"
     ]
    }
   ],
   "source": [
    "first= input('Enter first number: ')\n",
    "second = input('Enter second number: ')\n",
    "\n",
    "print('Before swapping:', first, second)\n",
    "first, second = second, first\n",
    "\n",
    "print('After swapping:', first, second)"
   ]
  },
  {
   "cell_type": "code",
   "execution_count": 7,
   "id": "f5504743",
   "metadata": {},
   "outputs": [
    {
     "name": "stdout",
     "output_type": "stream",
     "text": [
      "['Pheonix', 'Los Angeles', 'Chicago', 'Huston', 'New York City']\n"
     ]
    }
   ],
   "source": [
    "top_cities = ['New York City',\n",
    "'Los Angeles',\n",
    "'Chicago',\n",
    "'Huston',\n",
    "'Pheonix']\n",
    "\n",
    "top_cities[0], top_cities[4] = top_cities[4], top_cities[0]\n",
    "print(top_cities)"
   ]
  },
  {
   "cell_type": "code",
   "execution_count": 8,
   "id": "2214c80d",
   "metadata": {},
   "outputs": [],
   "source": [
    "top_cities = ['New York City',\n",
    "'Los Angeles',\n",
    "'Chicago',\n",
    "'Huston',\n",
    "'Pheonix']\n",
    "top_cities.sort()"
   ]
  },
  {
   "cell_type": "code",
   "execution_count": 9,
   "id": "09e9f9da",
   "metadata": {},
   "outputs": [
    {
     "data": {
      "text/plain": [
       "['Chicago', 'Huston', 'Los Angeles', 'New York City', 'Pheonix']"
      ]
     },
     "execution_count": 9,
     "metadata": {},
     "output_type": "execute_result"
    }
   ],
   "source": [
    "top_cities"
   ]
  },
  {
   "cell_type": "code",
   "execution_count": 11,
   "id": "ec81b1e7",
   "metadata": {},
   "outputs": [
    {
     "name": "stdout",
     "output_type": "stream",
     "text": [
      "[-3, 0, 2, 4, 5]\n"
     ]
    }
   ],
   "source": [
    "random_numbers = [2,5,0, -3, 4]\n",
    "random_numbers.sort()\n",
    "print(random_numbers)"
   ]
  },
  {
   "cell_type": "code",
   "execution_count": 12,
   "id": "748409fc",
   "metadata": {},
   "outputs": [
    {
     "name": "stdout",
     "output_type": "stream",
     "text": [
      "[5, 4, 2, 0, -3]\n"
     ]
    }
   ],
   "source": [
    "random_numbers = [2,5,0, -3, 4]\n",
    "random_numbers.sort(reverse= True)\n",
    "print(random_numbers)"
   ]
  },
  {
   "cell_type": "code",
   "execution_count": 13,
   "id": "46882498",
   "metadata": {},
   "outputs": [
    {
     "name": "stdout",
     "output_type": "stream",
     "text": [
      "['Chicago', 'Huston', 'Los Angeles', 'New York City', 'Pheonix']\n",
      "['New York City', 'Los Angeles', 'Chicago', 'Huston', 'Pheonix']\n"
     ]
    }
   ],
   "source": [
    "#### using sorted in place\n",
    "top_cities = ['New York City',\n",
    "'Los Angeles',\n",
    "'Chicago',\n",
    "'Huston',\n",
    "'Pheonix']\n",
    "print(sorted(top_cities))\n",
    "print(top_cities)"
   ]
  },
  {
   "cell_type": "code",
   "execution_count": null,
   "id": "2e31e45c",
   "metadata": {},
   "outputs": [],
   "source": []
  }
 ],
 "metadata": {
  "kernelspec": {
   "display_name": "Python 3 (ipykernel)",
   "language": "python",
   "name": "python3"
  },
  "language_info": {
   "codemirror_mode": {
    "name": "ipython",
    "version": 3
   },
   "file_extension": ".py",
   "mimetype": "text/x-python",
   "name": "python",
   "nbconvert_exporter": "python",
   "pygments_lexer": "ipython3",
   "version": "3.9.16"
  }
 },
 "nbformat": 4,
 "nbformat_minor": 5
}
