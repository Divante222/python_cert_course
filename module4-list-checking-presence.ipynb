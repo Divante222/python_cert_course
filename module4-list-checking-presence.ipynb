{
 "cells": [
  {
   "cell_type": "code",
   "execution_count": 1,
   "id": "e5b5572b",
   "metadata": {},
   "outputs": [
    {
     "name": "stdout",
     "output_type": "stream",
     "text": [
      "h\n",
      "a\n",
      "p\n",
      "p\n",
      "y\n",
      "m\n",
      "e\n",
      "s\n",
      "s\n",
      "a\n",
      "g\n",
      "e\n"
     ]
    }
   ],
   "source": [
    "for char in 'happymessage':\n",
    "    print(char)"
   ]
  },
  {
   "cell_type": "code",
   "execution_count": 4,
   "id": "02f6e24f",
   "metadata": {},
   "outputs": [
    {
     "name": "stdout",
     "output_type": "stream",
     "text": [
      "What is your name? adrian\n",
      "You are not invited\n"
     ]
    }
   ],
   "source": [
    "invited_guests= ['Kate', 'Adam', 'Kerry', 'Joe', 'Anne', 'Marie']\n",
    "name = input('What is your name? ')\n",
    "if name in invited_guests:\n",
    "    print('Welcome!')\n",
    "else:\n",
    "    print('You are not invited')"
   ]
  },
  {
   "cell_type": "code",
   "execution_count": 5,
   "id": "3539ebf9",
   "metadata": {},
   "outputs": [
    {
     "name": "stdout",
     "output_type": "stream",
     "text": [
      "What is your name? Kate\n",
      "You are not invited\n"
     ]
    }
   ],
   "source": [
    "invited_guests= ['Kate', 'Adam', 'Kerry', 'Joe', 'Anne', 'Marie']\n",
    "name = input('What is your name? ')\n",
    "if name not in invited_guests:\n",
    "    print('Welcome!')\n",
    "else:\n",
    "    print('You are not invited')"
   ]
  },
  {
   "cell_type": "code",
   "execution_count": null,
   "id": "d3fa9bf6",
   "metadata": {},
   "outputs": [],
   "source": []
  }
 ],
 "metadata": {
  "kernelspec": {
   "display_name": "Python 3 (ipykernel)",
   "language": "python",
   "name": "python3"
  },
  "language_info": {
   "codemirror_mode": {
    "name": "ipython",
    "version": 3
   },
   "file_extension": ".py",
   "mimetype": "text/x-python",
   "name": "python",
   "nbconvert_exporter": "python",
   "pygments_lexer": "ipython3",
   "version": "3.9.16"
  }
 },
 "nbformat": 4,
 "nbformat_minor": 5
}
