{
 "cells": [
  {
   "cell_type": "code",
   "execution_count": 1,
   "id": "f178b4a0",
   "metadata": {},
   "outputs": [
    {
     "name": "stdout",
     "output_type": "stream",
     "text": [
      "D\n"
     ]
    }
   ],
   "source": [
    "fav_band = 'Green Day'\n",
    "print(fav_band[6])"
   ]
  },
  {
   "cell_type": "code",
   "execution_count": 2,
   "id": "4d30e989",
   "metadata": {},
   "outputs": [
    {
     "name": "stdout",
     "output_type": "stream",
     "text": [
      "Green \n"
     ]
    }
   ],
   "source": [
    "print(fav_band[:6])"
   ]
  },
  {
   "cell_type": "code",
   "execution_count": 3,
   "id": "3489526b",
   "metadata": {},
   "outputs": [
    {
     "ename": "TypeError",
     "evalue": "'str' object does not support item assignment",
     "output_type": "error",
     "traceback": [
      "\u001b[0;31m---------------------------------------------------------------------------\u001b[0m",
      "\u001b[0;31mTypeError\u001b[0m                                 Traceback (most recent call last)",
      "Cell \u001b[0;32mIn[3], line 1\u001b[0m\n\u001b[0;32m----> 1\u001b[0m fav_band[\u001b[38;5;241m6\u001b[39m] \u001b[38;5;241m=\u001b[39m \u001b[38;5;124m'\u001b[39m\u001b[38;5;124mM\u001b[39m\u001b[38;5;124m'\u001b[39m\n",
      "\u001b[0;31mTypeError\u001b[0m: 'str' object does not support item assignment"
     ]
    }
   ],
   "source": [
    "fav_band[6] = 'M'"
   ]
  },
  {
   "cell_type": "code",
   "execution_count": 5,
   "id": "263ac0cb",
   "metadata": {},
   "outputs": [
    {
     "name": "stdout",
     "output_type": "stream",
     "text": [
      "PLEASE CAPITALISE ME\n"
     ]
    }
   ],
   "source": [
    "text = 'please capitalise me'\n",
    "text_cap = text.upper()\n",
    "print(text_cap)"
   ]
  },
  {
   "cell_type": "code",
   "execution_count": 7,
   "id": "9496e86a",
   "metadata": {},
   "outputs": [
    {
     "name": "stdout",
     "output_type": "stream",
     "text": [
      "Plese provide a number: ala\n",
      "Sorry, ala is not a number!\n"
     ]
    }
   ],
   "source": [
    "user_number = input('Plese provide a number: ')\n",
    "if user_number.isnumeric():\n",
    "    print('Thank you, that\\'s a correct number!')\n",
    "else:\n",
    "    print('Sorry,', user_number, 'is not a number!')"
   ]
  },
  {
   "cell_type": "code",
   "execution_count": null,
   "id": "8d4ca846",
   "metadata": {},
   "outputs": [],
   "source": []
  }
 ],
 "metadata": {
  "kernelspec": {
   "display_name": "Python 3 (ipykernel)",
   "language": "python",
   "name": "python3"
  },
  "language_info": {
   "codemirror_mode": {
    "name": "ipython",
    "version": 3
   },
   "file_extension": ".py",
   "mimetype": "text/x-python",
   "name": "python",
   "nbconvert_exporter": "python",
   "pygments_lexer": "ipython3",
   "version": "3.9.16"
  }
 },
 "nbformat": 4,
 "nbformat_minor": 5
}
