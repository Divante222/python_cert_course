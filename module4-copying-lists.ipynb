{
 "cells": [
  {
   "cell_type": "code",
   "execution_count": 1,
   "id": "d291e700",
   "metadata": {},
   "outputs": [
    {
     "name": "stdout",
     "output_type": "stream",
     "text": [
      "John Snow Daenerys Targaryen\n"
     ]
    }
   ],
   "source": [
    "name_original = 'John Snow'\n",
    "name_new = name_original\n",
    "\n",
    "name_original = 'Daenerys Targaryen'\n",
    "print(name_new, name_original)"
   ]
  },
  {
   "cell_type": "code",
   "execution_count": 4,
   "id": "d8d7c072",
   "metadata": {},
   "outputs": [
    {
     "name": "stdout",
     "output_type": "stream",
     "text": [
      "Original: [-5, 2, 3] \n",
      "New: [-5, 2, 3]\n"
     ]
    }
   ],
   "source": [
    "list_original = [1,2,3]\n",
    "list_new = list_original\n",
    "list_original[0] = -5\n",
    "print('Original:', list_original, '\\nNew:', list_new)"
   ]
  },
  {
   "cell_type": "markdown",
   "id": "49b4ff44",
   "metadata": {},
   "source": [
    "# use slicing to get a new memory location"
   ]
  },
  {
   "cell_type": "code",
   "execution_count": 5,
   "id": "59626e7a",
   "metadata": {},
   "outputs": [
    {
     "name": "stdout",
     "output_type": "stream",
     "text": [
      "Original: [-5, 2, 3] \n",
      "New: [1, 2, 3]\n"
     ]
    }
   ],
   "source": [
    "list_original = [1,2,3]\n",
    "list_new = list_original[:]\n",
    "list_original[0] = -5\n",
    "print('Original:', list_original, '\\nNew:', list_new)"
   ]
  },
  {
   "cell_type": "code",
   "execution_count": 6,
   "id": "1e50051a",
   "metadata": {},
   "outputs": [
    {
     "name": "stdout",
     "output_type": "stream",
     "text": [
      "Original: [-5, 2, 3] \n",
      "New: [1, 2]\n"
     ]
    }
   ],
   "source": [
    "list_original = [1,2,3]\n",
    "list_new = list_original[:2]\n",
    "list_original[0] = -5\n",
    "print('Original:', list_original, '\\nNew:', list_new)"
   ]
  },
  {
   "cell_type": "code",
   "execution_count": null,
   "id": "bbe2f141",
   "metadata": {},
   "outputs": [],
   "source": [
    "list_original = [1,2,3]\n",
    "list_new = list_new"
   ]
  },
  {
   "cell_type": "code",
   "execution_count": null,
   "id": "64cc7c66",
   "metadata": {},
   "outputs": [],
   "source": [
    "list_original = [1,2,3]\n",
    "list_new = list_new[:]"
   ]
  }
 ],
 "metadata": {
  "kernelspec": {
   "display_name": "Python 3 (ipykernel)",
   "language": "python",
   "name": "python3"
  },
  "language_info": {
   "codemirror_mode": {
    "name": "ipython",
    "version": 3
   },
   "file_extension": ".py",
   "mimetype": "text/x-python",
   "name": "python",
   "nbconvert_exporter": "python",
   "pygments_lexer": "ipython3",
   "version": "3.9.16"
  }
 },
 "nbformat": 4,
 "nbformat_minor": 5
}
