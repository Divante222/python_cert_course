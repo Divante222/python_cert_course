{
 "cells": [
  {
   "cell_type": "code",
   "execution_count": 2,
   "id": "05d43ac3",
   "metadata": {},
   "outputs": [
    {
     "data": {
      "text/plain": [
       "False"
      ]
     },
     "execution_count": 2,
     "metadata": {},
     "output_type": "execute_result"
    }
   ],
   "source": [
    "list1 = (1,2)\n",
    "list2 = (3,4)\n",
    "\n",
    "list1 > list2"
   ]
  },
  {
   "cell_type": "code",
   "execution_count": 3,
   "id": "4d410730",
   "metadata": {},
   "outputs": [
    {
     "name": "stdout",
     "output_type": "stream",
     "text": [
      "0b10011\n"
     ]
    }
   ],
   "source": [
    "x = 0b10111\n",
    "y = 0b10011\n",
    "print(bin(x & y))"
   ]
  },
  {
   "cell_type": "code",
   "execution_count": 5,
   "id": "b5a8a4c6",
   "metadata": {},
   "outputs": [],
   "source": [
    "list = 'or'"
   ]
  },
  {
   "cell_type": "code",
   "execution_count": 6,
   "id": "b2e283c9",
   "metadata": {},
   "outputs": [
    {
     "name": "stdout",
     "output_type": "stream",
     "text": [
      "0\n",
      "0\n",
      "0\n",
      "0\n"
     ]
    }
   ],
   "source": [
    "for x in range(4):\n",
    "    for y in range(3):\n",
    "        print(y)\n",
    "        break"
   ]
  },
  {
   "cell_type": "code",
   "execution_count": 7,
   "id": "dea36085",
   "metadata": {},
   "outputs": [
    {
     "name": "stdout",
     "output_type": "stream",
     "text": [
      "0b111000\n"
     ]
    }
   ],
   "source": [
    "a = 0b111\n",
    "b = a << 3\n",
    " \n",
    "print(bin(b))"
   ]
  },
  {
   "cell_type": "code",
   "execution_count": 9,
   "id": "d4285e5a",
   "metadata": {},
   "outputs": [
    {
     "name": "stdout",
     "output_type": "stream",
     "text": [
      "hello\n"
     ]
    }
   ],
   "source": [
    "def f(str):\n",
    "    print(str)\n",
    "    \n",
    "f('hello')"
   ]
  },
  {
   "cell_type": "code",
   "execution_count": 11,
   "id": "4c2be90a",
   "metadata": {},
   "outputs": [
    {
     "name": "stderr",
     "output_type": "stream",
     "text": [
      "<>:1: SyntaxWarning: \"is\" with a literal. Did you mean \"==\"?\n",
      "<>:1: SyntaxWarning: \"is\" with a literal. Did you mean \"==\"?\n",
      "/var/folders/9q/9mllqnsn2vq07btq58zw9zzc0000gn/T/ipykernel_28391/1283835458.py:1: SyntaxWarning: \"is\" with a literal. Did you mean \"==\"?\n",
      "  '1' is '1'\n"
     ]
    },
    {
     "data": {
      "text/plain": [
       "True"
      ]
     },
     "execution_count": 11,
     "metadata": {},
     "output_type": "execute_result"
    }
   ],
   "source": [
    "'1' is '1'"
   ]
  },
  {
   "cell_type": "code",
   "execution_count": 13,
   "id": "541843b6",
   "metadata": {},
   "outputs": [
    {
     "data": {
      "text/plain": [
       "0"
      ]
     },
     "execution_count": 13,
     "metadata": {},
     "output_type": "execute_result"
    }
   ],
   "source": [
    "a = 1\n",
    "b = 1\n",
    "a^b"
   ]
  },
  {
   "cell_type": "code",
   "execution_count": 14,
   "id": "4e03276c",
   "metadata": {},
   "outputs": [],
   "source": [
    "var = 5"
   ]
  },
  {
   "cell_type": "code",
   "execution_count": 15,
   "id": "c364ad49",
   "metadata": {},
   "outputs": [
    {
     "name": "stdout",
     "output_type": "stream",
     "text": [
      "16\n"
     ]
    }
   ],
   "source": [
    "for n in range(0,5):\n",
    "   n =n*n\n",
    "print(n)"
   ]
  },
  {
   "cell_type": "code",
   "execution_count": 20,
   "id": "aee7b0fb",
   "metadata": {},
   "outputs": [
    {
     "name": "stdout",
     "output_type": "stream",
     "text": [
      "True\n"
     ]
    }
   ],
   "source": [
    "list1 = (10, 5, (8,6))\n",
    "list2 = (8, 3, (2,6))\n",
    "print(list1 > list2)"
   ]
  },
  {
   "cell_type": "code",
   "execution_count": 18,
   "id": "fa89d42f",
   "metadata": {},
   "outputs": [
    {
     "ename": "TypeError",
     "evalue": "unsupported operand type(s) for -: 'tuple' and 'tuple'",
     "output_type": "error",
     "traceback": [
      "\u001b[0;31m---------------------------------------------------------------------------\u001b[0m",
      "\u001b[0;31mTypeError\u001b[0m                                 Traceback (most recent call last)",
      "Cell \u001b[0;32mIn[18], line 1\u001b[0m\n\u001b[0;32m----> 1\u001b[0m \u001b[43mlist1\u001b[49m\u001b[43m \u001b[49m\u001b[38;5;241;43m-\u001b[39;49m\u001b[43m \u001b[49m\u001b[43mlist2\u001b[49m\n",
      "\u001b[0;31mTypeError\u001b[0m: unsupported operand type(s) for -: 'tuple' and 'tuple'"
     ]
    }
   ],
   "source": []
  },
  {
   "cell_type": "code",
   "execution_count": 21,
   "id": "0f7b923c",
   "metadata": {},
   "outputs": [
    {
     "name": "stdout",
     "output_type": "stream",
     "text": [
      "coding\n",
      "codingcodingcodingcoding\n"
     ]
    }
   ],
   "source": [
    "inp = input() \n",
    "print(inp*4)"
   ]
  },
  {
   "cell_type": "code",
   "execution_count": 22,
   "id": "194010b5",
   "metadata": {},
   "outputs": [
    {
     "name": "stdout",
     "output_type": "stream",
     "text": [
      "(30,) (20,)\n"
     ]
    }
   ],
   "source": [
    "\n",
    "def f1():\n",
    "   c = 30,\n",
    "   d = 20,\n",
    "   return c, d\n",
    " \n",
    "a, b = f1()\n",
    " \n",
    "print(a,b)"
   ]
  },
  {
   "cell_type": "code",
   "execution_count": 23,
   "id": "96e9345e",
   "metadata": {},
   "outputs": [
    {
     "name": "stdout",
     "output_type": "stream",
     "text": [
      "Sandy\n"
     ]
    }
   ],
   "source": [
    "inp = 1\n",
    " \n",
    "if (inp < 3): print(\"Sandy\")\n",
    "else: print(\"Monika\")"
   ]
  },
  {
   "cell_type": "code",
   "execution_count": 24,
   "id": "480ebbee",
   "metadata": {},
   "outputs": [
    {
     "name": "stdout",
     "output_type": "stream",
     "text": [
      "hello\n"
     ]
    }
   ],
   "source": [
    "if True:print('hello')"
   ]
  },
  {
   "cell_type": "code",
   "execution_count": 25,
   "id": "13eddf75",
   "metadata": {},
   "outputs": [
    {
     "ename": "TypeError",
     "evalue": "unsupported operand type(s) for +: 'dict' and 'dict'",
     "output_type": "error",
     "traceback": [
      "\u001b[0;31m---------------------------------------------------------------------------\u001b[0m",
      "\u001b[0;31mTypeError\u001b[0m                                 Traceback (most recent call last)",
      "Cell \u001b[0;32mIn[25], line 3\u001b[0m\n\u001b[1;32m      1\u001b[0m dict1 \u001b[38;5;241m=\u001b[39m {\u001b[38;5;124m'\u001b[39m\u001b[38;5;124mName\u001b[39m\u001b[38;5;124m'\u001b[39m:\u001b[38;5;124m'\u001b[39m\u001b[38;5;124mSamuel\u001b[39m\u001b[38;5;124m'\u001b[39m}\n\u001b[1;32m      2\u001b[0m dict2 \u001b[38;5;241m=\u001b[39m {\u001b[38;5;124m'\u001b[39m\u001b[38;5;124mAge\u001b[39m\u001b[38;5;124m'\u001b[39m: \u001b[38;5;241m20\u001b[39m}\n\u001b[0;32m----> 3\u001b[0m dict3 \u001b[38;5;241m=\u001b[39m \u001b[43mdict1\u001b[49m\u001b[43m \u001b[49m\u001b[38;5;241;43m+\u001b[39;49m\u001b[43m \u001b[49m\u001b[43mdict2\u001b[49m\n\u001b[1;32m      4\u001b[0m \u001b[38;5;28mprint\u001b[39m(dict3)\n",
      "\u001b[0;31mTypeError\u001b[0m: unsupported operand type(s) for +: 'dict' and 'dict'"
     ]
    }
   ],
   "source": [
    "dict1 = {'Name':'Samuel'}\n",
    "dict2 = {'Age': 20}\n",
    "dict3 = dict1 + dict2\n",
    "print(dict3)"
   ]
  },
  {
   "cell_type": "code",
   "execution_count": 29,
   "id": "6f7c90f7",
   "metadata": {},
   "outputs": [
    {
     "name": "stdout",
     "output_type": "stream",
     "text": [
      "Bye 2020\n"
     ]
    }
   ],
   "source": [
    "year = 10000\n",
    "print(\"Year less than 2021\") if year < 2021 else print(\"Bye 2020\")"
   ]
  },
  {
   "cell_type": "code",
   "execution_count": 30,
   "id": "bc8e5846",
   "metadata": {},
   "outputs": [
    {
     "name": "stdout",
     "output_type": "stream",
     "text": [
      "0\n"
     ]
    }
   ],
   "source": [
    "print(3//4*5)"
   ]
  },
  {
   "cell_type": "code",
   "execution_count": 31,
   "id": "bc8fdd2c",
   "metadata": {},
   "outputs": [
    {
     "name": "stdout",
     "output_type": "stream",
     "text": [
      "True\n"
     ]
    }
   ],
   "source": [
    "d1 = {'Age': 27, 'Name': 'Holding'}\n",
    "d2 = {'Name': 'Holding', 'Age': 27}\n",
    "print(d1 == d2)"
   ]
  },
  {
   "cell_type": "code",
   "execution_count": 36,
   "id": "f14ef364",
   "metadata": {},
   "outputs": [],
   "source": [
    "tup = (6)"
   ]
  },
  {
   "cell_type": "code",
   "execution_count": 37,
   "id": "de0cb375",
   "metadata": {},
   "outputs": [
    {
     "data": {
      "text/plain": [
       "int"
      ]
     },
     "execution_count": 37,
     "metadata": {},
     "output_type": "execute_result"
    }
   ],
   "source": [
    "type(tup)"
   ]
  },
  {
   "cell_type": "code",
   "execution_count": 38,
   "id": "e8d2ab31",
   "metadata": {},
   "outputs": [
    {
     "name": "stdout",
     "output_type": "stream",
     "text": [
      "Sandy\n"
     ]
    }
   ],
   "source": [
    "inp = 1\n",
    " \n",
    "if (inp < 3): print(\"Sandy\")\n",
    "else: print(\"Monika\")"
   ]
  },
  {
   "cell_type": "code",
   "execution_count": 40,
   "id": "64b2f726",
   "metadata": {},
   "outputs": [
    {
     "name": "stdout",
     "output_type": "stream",
     "text": [
      "*\n",
      "*********\n",
      "***\n"
     ]
    }
   ],
   "source": [
    "p = '*'\n",
    "def multiply():\n",
    "    global p\n",
    "    print(p)\n",
    "    p *= 3\n",
    "    print(3 * p)\n",
    "multiply()\n",
    "print(p)"
   ]
  },
  {
   "cell_type": "code",
   "execution_count": 44,
   "id": "185f2bd9",
   "metadata": {},
   "outputs": [
    {
     "name": "stdout",
     "output_type": "stream",
     "text": [
      "Data is Empty\n"
     ]
    }
   ],
   "source": [
    "\n",
    "data = \"\"\n",
    "while data:\n",
    "    print(\"Data is not Empty\")\n",
    "\n",
    "else:\n",
    "    print(\"Data is Empty\")"
   ]
  },
  {
   "cell_type": "code",
   "execution_count": 45,
   "id": "8e00f742",
   "metadata": {},
   "outputs": [
    {
     "name": "stdout",
     "output_type": "stream",
     "text": [
      "['andy', 'candy', 'mandy', 'sandy']\n"
     ]
    }
   ],
   "source": [
    "t = (\"sandy\", \"mandy\", \"candy\",\"andy\")\n",
    "print(sorted(t))"
   ]
  },
  {
   "cell_type": "markdown",
   "id": "d685f754",
   "metadata": {},
   "source": [
    "\n",
    "The name \"Python\" for the programming language comes from the British comedy show \"Monty Python's Flying Circus.\" Guido van Rossum, the creator of Python, was a fan of the show, and he named the language after it as a tribute. The name was chosen to be fun and memorable, reflecting the language's philosophy of being readable and easy to understand."
   ]
  },
  {
   "cell_type": "code",
   "execution_count": 46,
   "id": "f774e1e7",
   "metadata": {},
   "outputs": [
    {
     "name": "stdout",
     "output_type": "stream",
     "text": [
      "24\n"
     ]
    }
   ],
   "source": [
    "def fact(n):\n",
    "   if n == 1:\n",
    "       return 1\n",
    "   return fact(n-1)*n\n",
    " \n",
    "print(fact(4))"
   ]
  },
  {
   "cell_type": "code",
   "execution_count": 47,
   "id": "bbb59f74",
   "metadata": {},
   "outputs": [
    {
     "ename": "TypeError",
     "evalue": "'tuple' object does not support item assignment",
     "output_type": "error",
     "traceback": [
      "\u001b[0;31m---------------------------------------------------------------------------\u001b[0m",
      "\u001b[0;31mTypeError\u001b[0m                                 Traceback (most recent call last)",
      "Cell \u001b[0;32mIn[47], line 2\u001b[0m\n\u001b[1;32m      1\u001b[0m tupl \u001b[38;5;241m=\u001b[39m (\u001b[38;5;241m1\u001b[39m, \u001b[38;5;241m3\u001b[39m, \u001b[38;5;241m5\u001b[39m, \u001b[38;5;241m4\u001b[39m)\n\u001b[0;32m----> 2\u001b[0m tupl[\u001b[38;5;241m3\u001b[39m] \u001b[38;5;241m=\u001b[39m \u001b[38;5;241m8\u001b[39m\n\u001b[1;32m      3\u001b[0m \u001b[38;5;28mprint\u001b[39m(tupl)\n",
      "\u001b[0;31mTypeError\u001b[0m: 'tuple' object does not support item assignment"
     ]
    }
   ],
   "source": [
    "tupl = (1, 3, 5, 4)\n",
    "tupl[3] = 8\n",
    "print(tupl)"
   ]
  },
  {
   "cell_type": "code",
   "execution_count": 50,
   "id": "a4469387",
   "metadata": {},
   "outputs": [
    {
     "data": {
      "text/plain": [
       "True"
      ]
     },
     "execution_count": 50,
     "metadata": {},
     "output_type": "execute_result"
    }
   ],
   "source": [
    "l1 = ['pandas','Numpy','Scipy']\n",
    "l2 = ['pandas','Numpy','Scipy']\n",
    "l3 =  l2\n",
    "l3 == l1"
   ]
  },
  {
   "cell_type": "code",
   "execution_count": 51,
   "id": "b6b24c8c",
   "metadata": {},
   "outputs": [
    {
     "name": "stdout",
     "output_type": "stream",
     "text": [
      "<class 'tuple'>\n"
     ]
    }
   ],
   "source": [
    "fruit = \"Mango\",\n",
    "print(type(fruit))"
   ]
  },
  {
   "cell_type": "code",
   "execution_count": 52,
   "id": "485fa6e5",
   "metadata": {},
   "outputs": [
    {
     "name": "stdout",
     "output_type": "stream",
     "text": [
      "False\n"
     ]
    }
   ],
   "source": [
    "a = 1\n",
    "b = 5\n",
    "print(a == b or a < b and not b != a)"
   ]
  },
  {
   "cell_type": "code",
   "execution_count": 53,
   "id": "71c8b43f",
   "metadata": {},
   "outputs": [
    {
     "data": {
      "text/plain": [
       "True"
      ]
     },
     "execution_count": 53,
     "metadata": {},
     "output_type": "execute_result"
    }
   ],
   "source": [
    "True or False"
   ]
  },
  {
   "cell_type": "code",
   "execution_count": 54,
   "id": "bbaeade6",
   "metadata": {},
   "outputs": [
    {
     "data": {
      "text/plain": [
       "True"
      ]
     },
     "execution_count": 54,
     "metadata": {},
     "output_type": "execute_result"
    }
   ],
   "source": [
    "False or True"
   ]
  },
  {
   "cell_type": "code",
   "execution_count": 55,
   "id": "c8426078",
   "metadata": {},
   "outputs": [
    {
     "data": {
      "text/plain": [
       "True"
      ]
     },
     "execution_count": 55,
     "metadata": {},
     "output_type": "execute_result"
    }
   ],
   "source": [
    "True or False and False"
   ]
  },
  {
   "cell_type": "code",
   "execution_count": 56,
   "id": "774fb3fa",
   "metadata": {},
   "outputs": [
    {
     "data": {
      "text/plain": [
       "True"
      ]
     },
     "execution_count": 56,
     "metadata": {},
     "output_type": "execute_result"
    }
   ],
   "source": [
    "False or True and True"
   ]
  },
  {
   "cell_type": "code",
   "execution_count": 57,
   "id": "a0f35c83",
   "metadata": {},
   "outputs": [
    {
     "name": "stdout",
     "output_type": "stream",
     "text": [
      "0\n",
      "-2.0\n"
     ]
    }
   ],
   "source": [
    "print(1 // 2)\n",
    "print(6. // -4)"
   ]
  },
  {
   "cell_type": "code",
   "execution_count": 58,
   "id": "29e78b4f",
   "metadata": {},
   "outputs": [
    {
     "name": "stdout",
     "output_type": "stream",
     "text": [
      "[]\n",
      "[5]\n"
     ]
    }
   ],
   "source": [
    "list1 = []\n",
    "list2 = list1[:]\n",
    "list2.append(5)\n",
    "print(list1)\n",
    "print(list2)"
   ]
  },
  {
   "cell_type": "code",
   "execution_count": 59,
   "id": "270f690c",
   "metadata": {},
   "outputs": [
    {
     "name": "stdout",
     "output_type": "stream",
     "text": [
      "['mon', 'tue', 'wed', 'thu', 'fri', 'sun']\n"
     ]
    }
   ],
   "source": [
    "def week(days):\n",
    "   days[4]='fri'\n",
    " \n",
    "day = ['mon', 'tue', 'wed', 'thu','sat','sun']\n",
    "week(day)\n",
    "print(day)"
   ]
  },
  {
   "cell_type": "code",
   "execution_count": 60,
   "id": "a3dc39cd",
   "metadata": {},
   "outputs": [
    {
     "name": "stdout",
     "output_type": "stream",
     "text": [
      "(1, 2, 3, 'Apples', 'Bananas')\n",
      "(1, 2, 3, 'Apples', 'Bananas')\n"
     ]
    }
   ],
   "source": [
    "tupl1 = (1, 2, 3)\n",
    "tupl2 = (\"Apples\", \"Bananas\")\n",
    "tupl3 = (tupl1 + tupl2)\n",
    "print(tupl3)\n",
    "tupl4 = tupl1 + tupl2\n",
    "print(tupl4)"
   ]
  },
  {
   "cell_type": "code",
   "execution_count": 61,
   "id": "9b0a6471",
   "metadata": {},
   "outputs": [],
   "source": [
    "print(end='',sep='@@')"
   ]
  },
  {
   "cell_type": "code",
   "execution_count": 62,
   "id": "3db6b340",
   "metadata": {},
   "outputs": [
    {
     "name": "stdout",
     "output_type": "stream",
     "text": [
      "5\n"
     ]
    }
   ],
   "source": [
    "print(5** 2 ** 0 ** 1)"
   ]
  },
  {
   "cell_type": "code",
   "execution_count": 63,
   "id": "82453a57",
   "metadata": {},
   "outputs": [
    {
     "name": "stdout",
     "output_type": "stream",
     "text": [
      "0\n"
     ]
    }
   ],
   "source": [
    "a = 1\n",
    "b = 1\n",
    "print(a^b)"
   ]
  },
  {
   "cell_type": "code",
   "execution_count": 65,
   "id": "e41a7ae6",
   "metadata": {},
   "outputs": [
    {
     "name": "stdout",
     "output_type": "stream",
     "text": [
      "B\n",
      "o\n",
      "n\n",
      "j\n",
      "o\n",
      "u\n",
      "Madam\n"
     ]
    }
   ],
   "source": [
    "french_greeting = 'Bonjour'\n",
    "for i in french_greeting:\n",
    "  if i == 'r':\n",
    "     continue\n",
    "  print(i)\n",
    "else:\n",
    "  print('Madam')"
   ]
  },
  {
   "cell_type": "code",
   "execution_count": 66,
   "id": "3e166e2b",
   "metadata": {},
   "outputs": [
    {
     "name": "stdout",
     "output_type": "stream",
     "text": [
      "2\n"
     ]
    }
   ],
   "source": [
    "a= [1,2,3,4,5]\n",
    "print(a.index(3))"
   ]
  },
  {
   "cell_type": "code",
   "execution_count": 67,
   "id": "6192d88b",
   "metadata": {},
   "outputs": [
    {
     "name": "stdout",
     "output_type": "stream",
     "text": [
      "3\n"
     ]
    }
   ],
   "source": [
    "def reduce(a):\n",
    "   while a > 3:\n",
    "       a = a - 1\n",
    "   else:\n",
    "       print(a)\n",
    "a=4\n",
    "reduce(a)"
   ]
  },
  {
   "cell_type": "code",
   "execution_count": 70,
   "id": "8a3a316f",
   "metadata": {},
   "outputs": [
    {
     "name": "stdout",
     "output_type": "stream",
     "text": [
      "['p', 'q', 'r']\n"
     ]
    }
   ],
   "source": [
    "dict = {'r':2,'p':4,'q':5}\n",
    "print(sorted(dict))"
   ]
  },
  {
   "cell_type": "code",
   "execution_count": 73,
   "id": "809bcf38",
   "metadata": {},
   "outputs": [
    {
     "ename": "AttributeError",
     "evalue": "'tuple' object has no attribute 'pop'",
     "output_type": "error",
     "traceback": [
      "\u001b[0;31m---------------------------------------------------------------------------\u001b[0m",
      "\u001b[0;31mAttributeError\u001b[0m                            Traceback (most recent call last)",
      "Cell \u001b[0;32mIn[73], line 2\u001b[0m\n\u001b[1;32m      1\u001b[0m val \u001b[38;5;241m=\u001b[39m (\u001b[38;5;124m\"\u001b[39m\u001b[38;5;124mhi\u001b[39m\u001b[38;5;124m\"\u001b[39m,\u001b[38;5;124m\"\u001b[39m\u001b[38;5;124mhello\u001b[39m\u001b[38;5;124m\"\u001b[39m,\u001b[38;5;124m\"\u001b[39m\u001b[38;5;124mbye\u001b[39m\u001b[38;5;124m\"\u001b[39m)\n\u001b[0;32m----> 2\u001b[0m \u001b[43mval\u001b[49m\u001b[38;5;241;43m.\u001b[39;49m\u001b[43mpop\u001b[49m()\n",
      "\u001b[0;31mAttributeError\u001b[0m: 'tuple' object has no attribute 'pop'"
     ]
    }
   ],
   "source": [
    "val = (\"hi\",\"hello\",\"bye\")\n",
    "val.pop()"
   ]
  },
  {
   "cell_type": "code",
   "execution_count": 72,
   "id": "0fe6bf59",
   "metadata": {},
   "outputs": [
    {
     "name": "stdout",
     "output_type": "stream",
     "text": [
      "ppe"
     ]
    }
   ],
   "source": [
    "for ch in 'apple':\n",
    "   if ch != 'p' and ch != 'e':\n",
    "        continue\n",
    "   print(ch,end=\"\")"
   ]
  },
  {
   "cell_type": "code",
   "execution_count": 74,
   "id": "8e305cc4",
   "metadata": {},
   "outputs": [
    {
     "ename": "TypeError",
     "evalue": "'>' not supported between instances of 'dict' and 'dict'",
     "output_type": "error",
     "traceback": [
      "\u001b[0;31m---------------------------------------------------------------------------\u001b[0m",
      "\u001b[0;31mTypeError\u001b[0m                                 Traceback (most recent call last)",
      "Cell \u001b[0;32mIn[74], line 3\u001b[0m\n\u001b[1;32m      1\u001b[0m dict1 \u001b[38;5;241m=\u001b[39m {\u001b[38;5;241m12\u001b[39m:\u001b[38;5;241m35\u001b[39m,\u001b[38;5;241m13\u001b[39m:\u001b[38;5;241m26\u001b[39m,\u001b[38;5;241m49\u001b[39m:\u001b[38;5;241m24\u001b[39m,\u001b[38;5;241m55\u001b[39m:\u001b[38;5;241m46\u001b[39m,\u001b[38;5;241m90\u001b[39m:\u001b[38;5;241m20\u001b[39m}\n\u001b[1;32m      2\u001b[0m dict2 \u001b[38;5;241m=\u001b[39m {\u001b[38;5;241m56\u001b[39m:\u001b[38;5;241m68\u001b[39m,\u001b[38;5;241m35\u001b[39m:\u001b[38;5;241m15\u001b[39m,\u001b[38;5;241m25\u001b[39m:\u001b[38;5;241m28\u001b[39m,\u001b[38;5;241m32\u001b[39m:\u001b[38;5;241m39\u001b[39m,\u001b[38;5;241m65\u001b[39m:\u001b[38;5;241m40\u001b[39m}\n\u001b[0;32m----> 3\u001b[0m output \u001b[38;5;241m=\u001b[39m \u001b[43mdict1\u001b[49m\u001b[43m \u001b[49m\u001b[38;5;241;43m>\u001b[39;49m\u001b[43m \u001b[49m\u001b[43mdict2\u001b[49m\n\u001b[1;32m      4\u001b[0m \u001b[38;5;28mprint\u001b[39m(output)\n",
      "\u001b[0;31mTypeError\u001b[0m: '>' not supported between instances of 'dict' and 'dict'"
     ]
    }
   ],
   "source": [
    "dict1 = {12:35,13:26,49:24,55:46,90:20}\n",
    "dict2 = {56:68,35:15,25:28,32:39,65:40}\n",
    "output = dict1 > dict2\n",
    "print(output)"
   ]
  },
  {
   "cell_type": "code",
   "execution_count": 75,
   "id": "7e2b8daf",
   "metadata": {},
   "outputs": [
    {
     "name": "stdout",
     "output_type": "stream",
     "text": [
      "2.0\n",
      "<class 'str'>\n"
     ]
    }
   ],
   "source": [
    "val=str(bool(0) + float(10)/float(5))\n",
    "print(val)\n",
    "print(type(val))"
   ]
  },
  {
   "cell_type": "code",
   "execution_count": 76,
   "id": "cddc8d01",
   "metadata": {},
   "outputs": [
    {
     "data": {
      "text/plain": [
       "2"
      ]
     },
     "execution_count": 76,
     "metadata": {},
     "output_type": "execute_result"
    }
   ],
   "source": [
    "False + 2"
   ]
  },
  {
   "cell_type": "code",
   "execution_count": 77,
   "id": "ab043772",
   "metadata": {},
   "outputs": [
    {
     "data": {
      "text/plain": [
       "3"
      ]
     },
     "execution_count": 77,
     "metadata": {},
     "output_type": "execute_result"
    }
   ],
   "source": [
    "True + 2"
   ]
  },
  {
   "cell_type": "markdown",
   "id": "ee98db64",
   "metadata": {},
   "source": [
    "guido van rossum created python"
   ]
  },
  {
   "cell_type": "markdown",
   "id": "3b92f370",
   "metadata": {},
   "source": [
    "Python use which tool to execute the programs?\n",
    "interpeter"
   ]
  },
  {
   "cell_type": "code",
   "execution_count": 78,
   "id": "8b9b4f19",
   "metadata": {},
   "outputs": [
    {
     "name": "stdout",
     "output_type": "stream",
     "text": [
      "False\n"
     ]
    }
   ],
   "source": [
    "city1 = \"New York\"\n",
    "city2 = \"New York\"\n",
    "print(city1 is city2)"
   ]
  },
  {
   "cell_type": "code",
   "execution_count": 79,
   "id": "81de7bc6",
   "metadata": {},
   "outputs": [
    {
     "name": "stdout",
     "output_type": "stream",
     "text": [
      "False\n"
     ]
    }
   ],
   "source": [
    "city1 = \"New York\"\n",
    "city2 = \"New York\"\n",
    "print(city1 is city2)"
   ]
  },
  {
   "cell_type": "code",
   "execution_count": 80,
   "id": "3db7b845",
   "metadata": {},
   "outputs": [
    {
     "name": "stdout",
     "output_type": "stream",
     "text": [
      "High level\n",
      "OOP\n",
      "NOT ML\n",
      "Python is a None None None\n"
     ]
    }
   ],
   "source": [
    "print(\"Python is a\",print(\"High level\"),print(\"OOP\"),print(\"NOT ML\"))"
   ]
  },
  {
   "cell_type": "code",
   "execution_count": 81,
   "id": "4661115e",
   "metadata": {},
   "outputs": [
    {
     "name": "stdout",
     "output_type": "stream",
     "text": [
      "['A', 'B', 'a', 'b']\n"
     ]
    }
   ],
   "source": [
    "l1 = ['A','a','B','b']\n",
    "l1.sort()\n",
    "print(l1)"
   ]
  },
  {
   "cell_type": "code",
   "execution_count": 82,
   "id": "e6bb03ca",
   "metadata": {},
   "outputs": [
    {
     "ename": "TypeError",
     "evalue": "'<' not supported between instances of 'str' and 'int'",
     "output_type": "error",
     "traceback": [
      "\u001b[0;31m---------------------------------------------------------------------------\u001b[0m",
      "\u001b[0;31mTypeError\u001b[0m                                 Traceback (most recent call last)",
      "Cell \u001b[0;32mIn[82], line 2\u001b[0m\n\u001b[1;32m      1\u001b[0m mixed_list \u001b[38;5;241m=\u001b[39m [\u001b[38;5;241m65\u001b[39m,\u001b[38;5;124m\"\u001b[39m\u001b[38;5;124mA\u001b[39m\u001b[38;5;124m\"\u001b[39m,\u001b[38;5;241m66\u001b[39m,\u001b[38;5;124m\"\u001b[39m\u001b[38;5;124mB\u001b[39m\u001b[38;5;124m\"\u001b[39m,\u001b[38;5;241m67\u001b[39m,\u001b[38;5;124m\"\u001b[39m\u001b[38;5;124mC\u001b[39m\u001b[38;5;124m\"\u001b[39m]\n\u001b[0;32m----> 2\u001b[0m \u001b[43mmixed_list\u001b[49m\u001b[38;5;241;43m.\u001b[39;49m\u001b[43msort\u001b[49m\u001b[43m(\u001b[49m\u001b[43m)\u001b[49m\n\u001b[1;32m      3\u001b[0m \u001b[38;5;28mprint\u001b[39m(mixed_list)\n",
      "\u001b[0;31mTypeError\u001b[0m: '<' not supported between instances of 'str' and 'int'"
     ]
    }
   ],
   "source": [
    "mixed_list = [65,\"A\",66,\"B\",67,\"C\"]\n",
    "mixed_list.sort()\n",
    "print(mixed_list)"
   ]
  },
  {
   "cell_type": "code",
   "execution_count": 83,
   "id": "1b05ad92",
   "metadata": {},
   "outputs": [
    {
     "name": "stdout",
     "output_type": "stream",
     "text": [
      "6\n"
     ]
    }
   ],
   "source": [
    "a = 2\n",
    "b = 1\n",
    "a *= b + 2\n",
    "print(a)"
   ]
  },
  {
   "cell_type": "code",
   "execution_count": 84,
   "id": "73935da2",
   "metadata": {},
   "outputs": [
    {
     "name": "stdout",
     "output_type": "stream",
     "text": [
      "(30,) (20,)\n"
     ]
    }
   ],
   "source": [
    "def f1():\n",
    "   c = 30,\n",
    "   d = 20,\n",
    "   return c, d\n",
    " \n",
    "a, b = f1()\n",
    " \n",
    "print(a,b)\n"
   ]
  },
  {
   "cell_type": "code",
   "execution_count": 85,
   "id": "ae009edc",
   "metadata": {},
   "outputs": [
    {
     "data": {
      "text/plain": [
       "10"
      ]
     },
     "execution_count": 85,
     "metadata": {},
     "output_type": "execute_result"
    }
   ],
   "source": [
    "list = [2, 5, 8, 10]\n",
    "\n",
    "list[3]"
   ]
  },
  {
   "cell_type": "code",
   "execution_count": 86,
   "id": "1543cd9d",
   "metadata": {},
   "outputs": [
    {
     "data": {
      "text/plain": [
       "(1, 3)"
      ]
     },
     "execution_count": 86,
     "metadata": {},
     "output_type": "execute_result"
    }
   ],
   "source": [
    "(1,) + (3,)"
   ]
  },
  {
   "cell_type": "code",
   "execution_count": null,
   "id": "a9bc3544",
   "metadata": {},
   "outputs": [],
   "source": []
  }
 ],
 "metadata": {
  "kernelspec": {
   "display_name": "Python 3 (ipykernel)",
   "language": "python",
   "name": "python3"
  },
  "language_info": {
   "codemirror_mode": {
    "name": "ipython",
    "version": 3
   },
   "file_extension": ".py",
   "mimetype": "text/x-python",
   "name": "python",
   "nbconvert_exporter": "python",
   "pygments_lexer": "ipython3",
   "version": "3.9.16"
  }
 },
 "nbformat": 4,
 "nbformat_minor": 5
}
