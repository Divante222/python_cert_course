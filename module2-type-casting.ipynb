{
 "cells": [
  {
   "cell_type": "code",
   "execution_count": 3,
   "id": "65836a63",
   "metadata": {},
   "outputs": [
    {
     "name": "stdout",
     "output_type": "stream",
     "text": [
      "Height converter: enter your height in cm: 182\n",
      "Your height in feet is: 5.971128608923885\n"
     ]
    }
   ],
   "source": [
    "height_cm = input('Height converter: enter your height in cm: ')\n",
    "float_height_cm = float(height_cm)\n",
    "print('Your height in feet is:', float_height_cm / 30.48)"
   ]
  },
  {
   "cell_type": "code",
   "execution_count": 4,
   "id": "805f5443",
   "metadata": {},
   "outputs": [
    {
     "name": "stdout",
     "output_type": "stream",
     "text": [
      "Height converter: enter your height in cm: 182\n",
      "Your height in feet is: 5.971128608923885\n"
     ]
    }
   ],
   "source": [
    "height_cm = float(input('Height converter: enter your height in cm: '))\n",
    "\n",
    "print('Your height in feet is:', height_cm / 30.48)"
   ]
  },
  {
   "cell_type": "code",
   "execution_count": 6,
   "id": "ea4e40c6",
   "metadata": {},
   "outputs": [
    {
     "name": "stdout",
     "output_type": "stream",
     "text": [
      "What yaer were you born?1992\n",
      "In 2100, you will be 108 years old, provided you live this long!\n"
     ]
    }
   ],
   "source": [
    "year_born = int(input('What yaer were you born?'))\n",
    "print('In 2100, you will be', 2100 - year_born, 'years old, provided you live this long!')"
   ]
  },
  {
   "cell_type": "code",
   "execution_count": 7,
   "id": "cca2c874",
   "metadata": {},
   "outputs": [
    {
     "name": "stdout",
     "output_type": "stream",
     "text": [
      "Enter the temperature today in Celsius degrees: 20\n",
      "20 degrees Celsius equals 68.0degrees Fahrenheit\n"
     ]
    }
   ],
   "source": [
    "temp_c = input(\"Enter the temperature today in Celsius degrees: \")\n",
    "temp_f = float(temp_c) * 1.8 + 32\n",
    "temp_statment = str(temp_c) + ' degrees Celsius equals ' + str(temp_f) + 'degrees Fahrenheit'\n",
    "print(temp_statment)"
   ]
  },
  {
   "cell_type": "code",
   "execution_count": 8,
   "id": "77d3d7e0",
   "metadata": {},
   "outputs": [
    {
     "data": {
      "text/plain": [
       "0.0"
      ]
     },
     "execution_count": 8,
     "metadata": {},
     "output_type": "execute_result"
    }
   ],
   "source": [
    "float()"
   ]
  },
  {
   "cell_type": "code",
   "execution_count": 9,
   "id": "1e381f8a",
   "metadata": {},
   "outputs": [
    {
     "data": {
      "text/plain": [
       "0"
      ]
     },
     "execution_count": 9,
     "metadata": {},
     "output_type": "execute_result"
    }
   ],
   "source": [
    "int()"
   ]
  },
  {
   "cell_type": "code",
   "execution_count": 11,
   "id": "b0e015e3",
   "metadata": {},
   "outputs": [
    {
     "data": {
      "text/plain": [
       "''"
      ]
     },
     "execution_count": 11,
     "metadata": {},
     "output_type": "execute_result"
    }
   ],
   "source": [
    "str()"
   ]
  },
  {
   "cell_type": "code",
   "execution_count": null,
   "id": "33c9263f",
   "metadata": {},
   "outputs": [],
   "source": []
  }
 ],
 "metadata": {
  "kernelspec": {
   "display_name": "Python 3 (ipykernel)",
   "language": "python",
   "name": "python3"
  },
  "language_info": {
   "codemirror_mode": {
    "name": "ipython",
    "version": 3
   },
   "file_extension": ".py",
   "mimetype": "text/x-python",
   "name": "python",
   "nbconvert_exporter": "python",
   "pygments_lexer": "ipython3",
   "version": "3.9.16"
  }
 },
 "nbformat": 4,
 "nbformat_minor": 5
}
